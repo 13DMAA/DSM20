{
 "cells": [
  {
   "cell_type": "code",
   "execution_count": 1,
   "id": "adapted-going",
   "metadata": {},
   "outputs": [],
   "source": [
    "import numpy as np\n",
    "import matplotlib.pyplot as plt\n",
    "%matplotlib inline"
   ]
  },
  {
   "cell_type": "markdown",
   "id": "accepted-exchange",
   "metadata": {},
   "source": [
    "### 1. Даны значения величины заработной платы заемщиков банка (zp) и значения их поведенческого кредитного скоринга (ks): zp = [35, 45, 190, 200, 40, 70, 54, 150, 120, 110], ks = [401, 574, 874, 919, 459, 739, 653, 902, 746, 832]. Используя математические операции, посчитать коэффициенты линейной регрессии, приняв за X заработную плату (то есть, zp - признак), а за y - значения скорингового балла (то есть, ks - целевая переменная). Произвести расчет как с использованием intercept, так и без."
   ]
  },
  {
   "cell_type": "code",
   "execution_count": 2,
   "id": "noticed-france",
   "metadata": {},
   "outputs": [
    {
     "data": {
      "text/plain": [
       "2.620538882402765"
      ]
     },
     "execution_count": 2,
     "metadata": {},
     "output_type": "execute_result"
    }
   ],
   "source": [
    "zp = np.array([35, 45, 190, 200, 40, 70, 54, 150, 120, 110])\n",
    "ks = np.array([401, 574, 874, 919, 459, 739, 653, 902, 746, 832])\n",
    "b = (np.mean(zp*ks)-np.mean(zp)*np.mean(ks))/(np.mean(zp**2)-np.mean(zp)**2)\n",
    "b"
   ]
  },
  {
   "cell_type": "code",
   "execution_count": 3,
   "id": "religious-nowhere",
   "metadata": {},
   "outputs": [
    {
     "data": {
      "text/plain": [
       "444.1773573243596"
      ]
     },
     "execution_count": 3,
     "metadata": {},
     "output_type": "execute_result"
    }
   ],
   "source": [
    "a = np.mean(ks)-b*np.mean(zp)\n",
    "a"
   ]
  },
  {
   "cell_type": "code",
   "execution_count": 4,
   "id": "western-planner",
   "metadata": {},
   "outputs": [
    {
     "data": {
      "text/plain": [
       "array([535.89621821, 562.10160703, 942.07974498, 968.2851338 ,\n",
       "       548.99891262, 627.61507909, 585.68645697, 837.25818968,\n",
       "       758.64202321, 732.43663439])"
      ]
     },
     "execution_count": 4,
     "metadata": {},
     "output_type": "execute_result"
    }
   ],
   "source": [
    "y_hat = 444.1773573243596+2.620538882402765*zp\n",
    "y_hat"
   ]
  },
  {
   "cell_type": "code",
   "execution_count": 5,
   "id": "blind-birth",
   "metadata": {},
   "outputs": [
    {
     "data": {
      "text/plain": [
       "array([401, 574, 874, 919, 459, 739, 653, 902, 746, 832])"
      ]
     },
     "execution_count": 5,
     "metadata": {},
     "output_type": "execute_result"
    }
   ],
   "source": [
    "ks"
   ]
  },
  {
   "cell_type": "code",
   "execution_count": 6,
   "id": "federal-fruit",
   "metadata": {},
   "outputs": [
    {
     "data": {
      "image/png": "[encoded data removed]",
      "text/plain": [
       "<Figure size 432x288 with 1 Axes>"
      ]
     },
     "metadata": {
      "needs_background": "light"
     },
     "output_type": "display_data"
    }
   ],
   "source": [
    "plt.scatter(zp, ks)\n",
    "plt.plot(zp, 444.1773573243596+2.620538882402765*zp)\n",
    "plt.show()"
   ]
  },
  {
   "cell_type": "markdown",
   "id": "nervous-operator",
   "metadata": {},
   "source": [
    "$\\hat y = 444.18+2.62x$"
   ]
  },
  {
   "cell_type": "markdown",
   "id": "advised-thesaurus",
   "metadata": {},
   "source": [
    "#### То же самое, только матричным способом"
   ]
  },
  {
   "cell_type": "code",
   "execution_count": 7,
   "id": "hybrid-monaco",
   "metadata": {},
   "outputs": [
    {
     "data": {
      "text/plain": [
       "array([[ 35],\n",
       "       [ 45],\n",
       "       [190],\n",
       "       [200],\n",
       "       [ 40],\n",
       "       [ 70],\n",
       "       [ 54],\n",
       "       [150],\n",
       "       [120],\n",
       "       [110]])"
      ]
     },
     "execution_count": 7,
     "metadata": {},
     "output_type": "execute_result"
    }
   ],
   "source": [
    "X = zp.reshape(len(zp), 1)\n",
    "X"
   ]
  },
  {
   "cell_type": "code",
   "execution_count": 8,
   "id": "numerous-chance",
   "metadata": {},
   "outputs": [
    {
     "data": {
      "text/plain": [
       "array([[401],\n",
       "       [574],\n",
       "       [874],\n",
       "       [919],\n",
       "       [459],\n",
       "       [739],\n",
       "       [653],\n",
       "       [902],\n",
       "       [746],\n",
       "       [832]])"
      ]
     },
     "execution_count": 8,
     "metadata": {},
     "output_type": "execute_result"
    }
   ],
   "source": [
    "Y = ks.reshape(len(ks), 1)\n",
    "Y"
   ]
  },
  {
   "cell_type": "code",
   "execution_count": 9,
   "id": "interracial-wrestling",
   "metadata": {},
   "outputs": [
    {
     "data": {
      "text/plain": [
       "array([[  1.,  35.],\n",
       "       [  1.,  45.],\n",
       "       [  1., 190.],\n",
       "       [  1., 200.],\n",
       "       [  1.,  40.],\n",
       "       [  1.,  70.],\n",
       "       [  1.,  54.],\n",
       "       [  1., 150.],\n",
       "       [  1., 120.],\n",
       "       [  1., 110.]])"
      ]
     },
     "execution_count": 9,
     "metadata": {},
     "output_type": "execute_result"
    }
   ],
   "source": [
    "X = np.hstack([np.ones((len(zp), 1)), X])\n",
    "X"
   ]
  },
  {
   "cell_type": "markdown",
   "id": "satisfied-olive",
   "metadata": {},
   "source": [
    "$\\hat{B} = (X^TX)^{-1}X^TY$"
   ]
  },
  {
   "cell_type": "code",
   "execution_count": 10,
   "id": "necessary-nicholas",
   "metadata": {},
   "outputs": [
    {
     "data": {
      "text/plain": [
       "array([[444.17735732],\n",
       "       [  2.62053888]])"
      ]
     },
     "execution_count": 10,
     "metadata": {},
     "output_type": "execute_result"
    }
   ],
   "source": [
    "B = np.dot(np.linalg.inv(np.dot(X.T,X)),X.T@Y)\n",
    "B"
   ]
  },
  {
   "cell_type": "markdown",
   "id": "composed-formation",
   "metadata": {},
   "source": [
    "$\\hat y = 444.18+2.62x$"
   ]
  },
  {
   "cell_type": "markdown",
   "id": "twelve-regression",
   "metadata": {},
   "source": [
    "#### Без intercept"
   ]
  },
  {
   "cell_type": "code",
   "execution_count": 11,
   "id": "nearby-rabbit",
   "metadata": {},
   "outputs": [
    {
     "data": {
      "text/plain": [
       "array([[ 35],\n",
       "       [ 45],\n",
       "       [190],\n",
       "       [200],\n",
       "       [ 40],\n",
       "       [ 70],\n",
       "       [ 54],\n",
       "       [150],\n",
       "       [120],\n",
       "       [110]])"
      ]
     },
     "execution_count": 11,
     "metadata": {},
     "output_type": "execute_result"
    }
   ],
   "source": [
    "X = zp.reshape(len(zp), 1)\n",
    "X"
   ]
  },
  {
   "cell_type": "code",
   "execution_count": 12,
   "id": "pending-width",
   "metadata": {},
   "outputs": [
    {
     "data": {
      "text/plain": [
       "array([[401],\n",
       "       [574],\n",
       "       [874],\n",
       "       [919],\n",
       "       [459],\n",
       "       [739],\n",
       "       [653],\n",
       "       [902],\n",
       "       [746],\n",
       "       [832]])"
      ]
     },
     "execution_count": 12,
     "metadata": {},
     "output_type": "execute_result"
    }
   ],
   "source": [
    "Y = ks.reshape(len(ks), 1)\n",
    "Y"
   ]
  },
  {
   "cell_type": "code",
   "execution_count": 13,
   "id": "marked-alignment",
   "metadata": {},
   "outputs": [
    {
     "data": {
      "text/plain": [
       "array([[5.88982042]])"
      ]
     },
     "execution_count": 13,
     "metadata": {},
     "output_type": "execute_result"
    }
   ],
   "source": [
    "B = np.dot(np.linalg.inv(np.dot(X.T,X)),X.T@Y)\n",
    "B"
   ]
  },
  {
   "cell_type": "code",
   "execution_count": 14,
   "id": "legislative-shield",
   "metadata": {},
   "outputs": [
    {
     "data": {
      "image/png": "[encoded data removed]",
      "text/plain": [
       "<Figure size 432x288 with 1 Axes>"
      ]
     },
     "metadata": {
      "needs_background": "light"
     },
     "output_type": "display_data"
    }
   ],
   "source": [
    "plt.scatter(zp, ks)\n",
    "plt.plot(zp, 5.89*zp)\n",
    "plt.show()"
   ]
  },
  {
   "cell_type": "markdown",
   "id": "removed-singapore",
   "metadata": {},
   "source": [
    "$\\hat y = 5.89x$"
   ]
  },
  {
   "cell_type": "markdown",
   "id": "dominican-caribbean",
   "metadata": {},
   "source": [
    "### 2. Посчитать коэффициент линейной регрессии при заработной плате (zp), используя градиентный спуск (без intercept)."
   ]
  },
  {
   "cell_type": "code",
   "execution_count": 15,
   "id": "hairy-lottery",
   "metadata": {},
   "outputs": [
    {
     "name": "stdout",
     "output_type": "stream",
     "text": [
      "Iteration 0, B1 = 0.25952808, mse_ = 493237.7212546963\n",
      "Iteration 100000, B1 = 5.889820420132673, mse_ = 56516.85841571943\n",
      "Iteration 200000, B1 = 5.889820420132673, mse_ = 56516.85841571943\n",
      "Iteration 300000, B1 = 5.889820420132673, mse_ = 56516.85841571943\n",
      "Iteration 400000, B1 = 5.889820420132673, mse_ = 56516.85841571943\n",
      "Iteration 500000, B1 = 5.889820420132673, mse_ = 56516.85841571943\n",
      "Iteration 600000, B1 = 5.889820420132673, mse_ = 56516.85841571943\n",
      "Iteration 700000, B1 = 5.889820420132673, mse_ = 56516.85841571943\n",
      "Iteration 800000, B1 = 5.889820420132673, mse_ = 56516.85841571943\n",
      "Iteration 900000, B1 = 5.889820420132673, mse_ = 56516.85841571943\n"
     ]
    }
   ],
   "source": [
    "zp = np.array([35, 45, 190, 200, 40, 70, 54, 150, 120, 110])\n",
    "ks = np.array([401, 574, 874, 919, 459, 739, 653, 902, 746, 832])\n",
    "alpha = 1e-6\n",
    "def mse_(B1, x = zp, y = ks, n = len(ks)):\n",
    "    return np.sum((B1*x - y)**2)/n\n",
    "B1 = 0.1\n",
    "for i in range(10**6):\n",
    "    B1 -= alpha*(2/len(ks))*np.sum((B1*zp-ks)*zp)\n",
    "    if not i%10**5:\n",
    "        print(f'Iteration {i}, B1 = {B1}, mse_ = {mse_(B1)}')"
   ]
  },
  {
   "cell_type": "markdown",
   "id": "corresponding-institution",
   "metadata": {},
   "source": [
    "### 3. Произвести вычисления как в пункте 2, но с вычислением intercept. Учесть, что изменение коэффициентов должно производиться на каждом шаге одновременно (то есть изменение одного коэффициента не должно влиять на изменение другого во время одной итерации)."
   ]
  },
  {
   "cell_type": "code",
   "execution_count": 16,
   "id": "smooth-michael",
   "metadata": {},
   "outputs": [
    {
     "name": "stdout",
     "output_type": "stream",
     "text": [
      "Iteration 0, B0 = 0.0013993199999999997, B1 = 0.1595078, mse_ = 508890.0048302842\n",
      "Iteration 10000000, B0 = 441.3955490573045, B1 = 2.641014221156375, mse_ = 6472.37717623709\n",
      "Iteration 20000000, B0 = 444.15993361657667, B1 = 2.620667128595512, mse_ = 6470.414278185671\n",
      "Iteration 30000000, B0 = 444.17724819188305, B1 = 2.6205396856660412, mse_ = 6470.414201179684\n",
      "Iteration 40000000, B0 = 444.17735663935196, B1 = 2.62053888744472, mse_ = 6470.414201176663\n",
      "Iteration 50000000, B0 = 444.1773572683344, B1 = 2.620538882815136, mse_ = 6470.414201176662\n",
      "Iteration 60000000, B0 = 444.1773572683344, B1 = 2.620538882815136, mse_ = 6470.414201176662\n",
      "Iteration 70000000, B0 = 444.1773572683344, B1 = 2.620538882815136, mse_ = 6470.414201176662\n",
      "Iteration 80000000, B0 = 444.1773572683344, B1 = 2.620538882815136, mse_ = 6470.414201176662\n",
      "Iteration 90000000, B0 = 444.1773572683344, B1 = 2.620538882815136, mse_ = 6470.414201176662\n"
     ]
    }
   ],
   "source": [
    "zp = np.array([35, 45, 190, 200, 40, 70, 54, 150, 120, 110])\n",
    "ks = np.array([401, 574, 874, 919, 459, 739, 653, 902, 746, 832])\n",
    "alpha = 1e-6\n",
    "def mse_(B0, B1, x = zp, y = ks, n = len(ks)):\n",
    "    return np.sum((B0 + B1*x - y)**2)/n\n",
    "B0, B1, B0_, B1_ = 0.1, 0.1, 0, 0\n",
    "for i in range(10**8):\n",
    "    B0_ -= alpha*(2/len(ks))*np.sum((B0 + B1*zp - ks))\n",
    "    B1_ -= alpha*(2/len(ks))*np.sum((B0 + B1*zp - ks)*zp)\n",
    "    B0, B1 = B0_, B1_\n",
    "    if not i%10**7:\n",
    "        print(f'Iteration {i}, B0 = {B0}, B1 = {B1}, mse_ = {mse_(B0, B1)}')"
   ]
  },
  {
   "cell_type": "markdown",
   "id": "collective-bottle",
   "metadata": {},
   "source": [
    "$\\hat y = 444.18+2.62x\\newline$\n",
    "Это просто магия какая-то))))) У меня аж мурашки побежали, когда значения начали сходиться к правильному)))) До этого решения было несколько других с совсем не теми итогами, поэтому я пришел к такому огромному количеству итераций(думал, что это как-то поможет), но теперь понял, что хватило бы и меньше)))"
   ]
  },
  {
   "cell_type": "markdown",
   "id": "reliable-canada",
   "metadata": {},
   "source": [
    "Эта магия меня очень сильно заинтересовала, но у меня крайне мало времени, кажется, что я не успею ничего. Это я про курсовую...$\\newline$\n",
    "Я так понял, что курсовая по желанию...желание есть, но реализацию не могу обещать.$\\newline$\n",
    "А так, пожалуй, в).Линейная регрессия (условия применимости метода проверить ,можно с графиками,$\\newline$\n",
    "построить модель, исследовать на статистическую значимость модель ,можно и коэффициенты (самостоятельное изучение),$\\newline$\n",
    "коэффициент детерминации)"
   ]
  },
  {
   "cell_type": "code",
   "execution_count": null,
   "id": "interstate-alias",
   "metadata": {},
   "outputs": [],
   "source": []
  }
 ],
 "metadata": {
  "kernelspec": {
   "display_name": "Python 3",
   "language": "python",
   "name": "python3"
  },
  "language_info": {
   "codemirror_mode": {
    "name": "ipython",
    "version": 3
   },
   "file_extension": ".py",
   "mimetype": "text/x-python",
   "name": "python",
   "nbconvert_exporter": "python",
   "pygments_lexer": "ipython3",
   "version": "3.9.1"
  }
 },
 "nbformat": 4,
 "nbformat_minor": 5
}
