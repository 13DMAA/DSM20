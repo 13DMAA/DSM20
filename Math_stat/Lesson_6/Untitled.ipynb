{
 "cells": [
  {
   "cell_type": "code",
   "execution_count": 37,
   "id": "verbal-planning",
   "metadata": {},
   "outputs": [],
   "source": [
    "import numpy as np\n",
    "from scipy import stats"
   ]
  },
  {
   "cell_type": "markdown",
   "id": "steady-scenario",
   "metadata": {},
   "source": [
    "### 1. Даны значения величины заработной платы заемщиков банка (zp) и значения их поведенческого кредитного скоринга (ks): $\\newline$zp = [35, 45, 190, 200, 40, 70, 54, 150, 120, 110], $\\newline$ks = [401, 574, 874, 919, 459, 739, 653, 902, 746, 832]. $\\newline$Найдите ковариацию этих двух величин с помощью элементарных действий, а затем с помощью функции cov из numpy $\\newline$Полученные значения должны быть равны. $\\newline$Найдите коэффициент корреляции Пирсона с помощью ковариации и среднеквадратичных отклонений двух признаков, а затем с использованием функций из библиотек numpy и pandas."
   ]
  },
  {
   "cell_type": "markdown",
   "id": "coordinate-ultimate",
   "metadata": {},
   "source": [
    "$cov_{XY}=M(XY)-M(X)M(Y) \\approx 9157.84\\newline$\n",
    "$r_{XY}=\\frac{cov_{XY}}{\\sigma_X\\sigma_Y} \\approx 0.89$"
   ]
  },
  {
   "cell_type": "code",
   "execution_count": 21,
   "id": "rotary-guitar",
   "metadata": {},
   "outputs": [
    {
     "data": {
      "text/plain": [
       "array([[1.        , 0.88749009],\n",
       "       [0.88749009, 1.        ]])"
      ]
     },
     "execution_count": 21,
     "metadata": {},
     "output_type": "execute_result"
    }
   ],
   "source": [
    "zp = np.array([35, 45, 190, 200, 40, 70, 54, 150, 120, 110])\n",
    "ks = np.array([401, 574, 874, 919, 459, 739, 653, 902, 746, 832])\n",
    "np.corrcoef(zp, ks)"
   ]
  },
  {
   "cell_type": "code",
   "execution_count": 24,
   "id": "treated-output",
   "metadata": {},
   "outputs": [
    {
     "data": {
      "text/plain": [
       "9157.839999999997"
      ]
     },
     "execution_count": 24,
     "metadata": {},
     "output_type": "execute_result"
    }
   ],
   "source": [
    "np.mean(zp*ks)-np.mean(zp)*np.mean(ks)"
   ]
  },
  {
   "cell_type": "code",
   "execution_count": 29,
   "id": "tribal-distance",
   "metadata": {},
   "outputs": [
    {
     "data": {
      "text/plain": [
       "array([[ 3494.64,  9157.84],\n",
       "       [ 9157.84, 30468.89]])"
      ]
     },
     "execution_count": 29,
     "metadata": {},
     "output_type": "execute_result"
    }
   ],
   "source": [
    "np.cov(zp, ks, ddof=0)"
   ]
  },
  {
   "cell_type": "code",
   "execution_count": 23,
   "id": "cardiovascular-vulnerability",
   "metadata": {},
   "outputs": [
    {
     "data": {
      "text/plain": [
       "0.8874900920739158"
      ]
     },
     "execution_count": 23,
     "metadata": {},
     "output_type": "execute_result"
    }
   ],
   "source": [
    "(np.mean(zp*ks)-np.mean(zp)*np.mean(ks))/(np.std(zp)*np.std(ks))"
   ]
  },
  {
   "cell_type": "code",
   "execution_count": 30,
   "id": "further-approval",
   "metadata": {},
   "outputs": [
    {
     "data": {
      "text/plain": [
       "array([[0.33866702, 0.88749009],\n",
       "       [0.88749009, 2.95275283]])"
      ]
     },
     "execution_count": 30,
     "metadata": {},
     "output_type": "execute_result"
    }
   ],
   "source": [
    "np.cov(zp, ks)/(np.std(zp, ddof=1)*np.std(ks, ddof=1))"
   ]
  },
  {
   "cell_type": "code",
   "execution_count": 33,
   "id": "respective-tuition",
   "metadata": {},
   "outputs": [
    {
     "data": {
      "text/plain": [
       "array([[0.33866702, 0.88749009],\n",
       "       [0.88749009, 2.95275283]])"
      ]
     },
     "execution_count": 33,
     "metadata": {},
     "output_type": "execute_result"
    }
   ],
   "source": [
    "np.cov(zp, ks, ddof=0)/(np.std(zp)*np.std(ks))"
   ]
  },
  {
   "cell_type": "markdown",
   "id": "urban-prior",
   "metadata": {},
   "source": [
    "### 2. Измерены значения IQ выборки студентов,$\\newline$обучающихся в местных технических вузах:$\\newline$131, 125, 115, 122, 131, 115, 107, 99, 125, 111.$\\newline$Известно, что в генеральной совокупности IQ распределен нормально.$\\newline$Найдите доверительный интервал для математического ожидания с надежностью 0.95."
   ]
  },
  {
   "cell_type": "markdown",
   "id": "weird-saturn",
   "metadata": {},
   "source": [
    "IQ_list = [131, 125, 115, 122, 131, 115, 107, 99, 125, 111]$\\newline$\n",
    "$\\alpha = 2.5\\% = 0.025\\newline$\n",
    "$\\overline X = 118.1\\newline$\n",
    "$n = 10\\newline$\n",
    "$\\sigma \\approx 10.55\\newline$\n",
    "$\\overline X \\pm t_{\\frac{\\alpha}{2}}\\frac{\\sigma}{\\sqrt{n}}\\,\\,\\,\\,\\,\\,[110.56\\,;\\,125.64]\\newline$"
   ]
  },
  {
   "cell_type": "code",
   "execution_count": 36,
   "id": "oriental-atmosphere",
   "metadata": {},
   "outputs": [
    {
     "data": {
      "text/plain": [
       "118.1"
      ]
     },
     "execution_count": 36,
     "metadata": {},
     "output_type": "execute_result"
    }
   ],
   "source": [
    "IQ_list = [131, 125, 115, 122, 131, 115, 107, 99, 125, 111]\n",
    "np.mean(IQ_list)"
   ]
  },
  {
   "cell_type": "code",
   "execution_count": 35,
   "id": "apparent-correlation",
   "metadata": {},
   "outputs": [
    {
     "data": {
      "text/plain": [
       "10.54566788359614"
      ]
     },
     "execution_count": 35,
     "metadata": {},
     "output_type": "execute_result"
    }
   ],
   "source": [
    "np.std(IQ_list, ddof=1)"
   ]
  },
  {
   "cell_type": "code",
   "execution_count": 46,
   "id": "exempt-onion",
   "metadata": {},
   "outputs": [
    {
     "data": {
      "text/plain": [
       "2.2621571627409915"
      ]
     },
     "execution_count": 46,
     "metadata": {},
     "output_type": "execute_result"
    }
   ],
   "source": [
    "stats.t.ppf(0.975, df=9)"
   ]
  },
  {
   "cell_type": "code",
   "execution_count": 47,
   "id": "breeding-potato",
   "metadata": {},
   "outputs": [
    {
     "name": "stdout",
     "output_type": "stream",
     "text": [
      "125.64391634841274\n",
      "110.55608365158724\n"
     ]
    }
   ],
   "source": [
    "print(np.mean(IQ_list)+stats.t.ppf(0.975, df=9)*np.std(IQ_list, ddof=1)/np.sqrt(10))\n",
    "print(np.mean(IQ_list)-stats.t.ppf(0.975, df=9)*np.std(IQ_list, ddof=1)/np.sqrt(10))"
   ]
  },
  {
   "cell_type": "markdown",
   "id": "pressed-coordinator",
   "metadata": {},
   "source": [
    "### 3. Известно, что рост футболистов в сборной распределен нормально$\\newline$с дисперсией генеральной совокупности, равной 25 кв.см. Объем выборки равен 27,$\\newline$среднее выборочное составляет 174.2. Найдите доверительный интервал для математического$\\newline$ожидания с надежностью 0.95."
   ]
  },
  {
   "cell_type": "markdown",
   "id": "least-angola",
   "metadata": {},
   "source": [
    "$D(X) = 25 => \\sigma = 5\\newline$\n",
    "$n = 27\\newline$\n",
    "$\\overline X = 174.2\\newline$\n",
    "$\\alpha = 2.5\\% = 0.025\\newline$\n",
    "$\\overline X \\pm Z_{\\frac{\\alpha}{2}}\\frac{\\sigma}{\\sqrt{n}}\\,\\,\\,\\,\\,\\,[172.31\\,;\\,176.09]\\newline$"
   ]
  },
  {
   "cell_type": "code",
   "execution_count": 53,
   "id": "grand-female",
   "metadata": {},
   "outputs": [
    {
     "name": "stdout",
     "output_type": "stream",
     "text": [
      "176.08597622346028\n",
      "172.3140237765397\n"
     ]
    }
   ],
   "source": [
    "print(174.2+stats.norm.ppf(0.975)*5/np.sqrt(27))\n",
    "print(174.2-stats.norm.ppf(0.975)*5/np.sqrt(27))"
   ]
  }
 ],
 "metadata": {
  "kernelspec": {
   "display_name": "Python 3",
   "language": "python",
   "name": "python3"
  },
  "language_info": {
   "codemirror_mode": {
    "name": "ipython",
    "version": 3
   },
   "file_extension": ".py",
   "mimetype": "text/x-python",
   "name": "python",
   "nbconvert_exporter": "python",
   "pygments_lexer": "ipython3",
   "version": "3.9.1"
  }
 },
 "nbformat": 4,
 "nbformat_minor": 5
}
