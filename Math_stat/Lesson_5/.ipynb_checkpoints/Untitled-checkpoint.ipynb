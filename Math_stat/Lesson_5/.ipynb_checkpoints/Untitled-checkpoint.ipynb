{
 "cells": [
  {
   "cell_type": "code",
   "execution_count": 1,
   "id": "elegant-baltimore",
   "metadata": {},
   "outputs": [],
   "source": [
    "import numpy as np"
   ]
  },
  {
   "cell_type": "markdown",
   "id": "nonprofit-lodge",
   "metadata": {},
   "source": [
    "### 1.Известно, что генеральная совокупность распределена нормально со средним квадратическим отклонением, равным 16. Найти доверительный интервал для оценки математического ожидания с надежностью 0.95, если выборочная средняя M = 80, а объем выборки n = 256."
   ]
  },
  {
   "cell_type": "markdown",
   "id": "featured-black",
   "metadata": {},
   "source": [
    "$M(X) = 80\\newline$\n",
    "$\\sigma = 16\\newline$\n",
    "$n = 256\\newline$\n",
    "$reliability = 0.95\\newline$\n",
    "$\\alpha = 0.05\\,\\,\\,\\,\\,\\,\\frac{\\alpha}2 = 0.025\\,\\,\\,\\,\\,\\,1-\\frac{\\alpha}2=0.975\\newline$\n",
    "$interval = \\overline X \\pm Z_{\\frac{\\alpha}2}\\frac{\\sigma}{\\sqrt{n}} = 80 \\pm 1.96*\\frac{16}{\\sqrt{256}} = [78.04 \\,;\\, 81.96]$\n"
   ]
  },
  {
   "cell_type": "code",
   "execution_count": 13,
   "id": "important-explorer",
   "metadata": {},
   "outputs": [
    {
     "name": "stdout",
     "output_type": "stream",
     "text": [
      "78.04\n",
      "81.96\n"
     ]
    }
   ],
   "source": [
    "print(80-1.96*(16/np.sqrt(256)))\n",
    "print(80+1.96*(16/np.sqrt(256)))"
   ]
  },
  {
   "cell_type": "markdown",
   "id": "driven-stevens",
   "metadata": {},
   "source": [
    "### 2. В результате 10 независимых измерений некоторой величины X, выполненных с одинаковой точностью, получены опытные данные: 6.9, 6.1, 6.2, 6.8, 7.5, 6.3, 6.4, 6.9, 6.7, 6.1 Предполагая, что результаты измерений подчинены нормальному закону распределения вероятностей, оценить истинное значение величины X при помощи доверительного интервала, покрывающего это значение с доверительной вероятностью 0,95."
   ]
  },
  {
   "cell_type": "markdown",
   "id": "healthy-garage",
   "metadata": {},
   "source": [
    "$\\sigma = \\sqrt{\\frac{\\sum\\limits_{i = 1}^n(x_i - \\overline{x})^2}{n - 1}}\\newline$\n",
    "$\\overline X = (6.9 + 6.1 + 6.2 + 6.8 + 7.5 + 6.3 + 6.4 + 6.9 + 6.7 + 6.1)/10 \\approx 6.59\\newline$\n",
    "$\\sigma \\approx 0.45\\newline$\n",
    "$\\overline X \\pm t_{\\frac{\\alpha}2}\\frac{\\sigma_н}{\\sqrt n}\\newline$\n",
    "$6.59\\pm2.262\\frac{0.45}{\\sqrt{10}}=[6.27\\,;\\,6.91]$"
   ]
  },
  {
   "cell_type": "code",
   "execution_count": 5,
   "id": "cooperative-reward",
   "metadata": {},
   "outputs": [
    {
     "data": {
      "text/plain": [
       "6.589999999999999"
      ]
     },
     "execution_count": 5,
     "metadata": {},
     "output_type": "execute_result"
    }
   ],
   "source": [
    "(6.9 + 6.1 + 6.2 + 6.8 + 7.5 + 6.3 + 6.4 + 6.9 + 6.7 + 6.1)/10"
   ]
  },
  {
   "cell_type": "code",
   "execution_count": 12,
   "id": "dramatic-beginning",
   "metadata": {},
   "outputs": [
    {
     "name": "stdout",
     "output_type": "stream",
     "text": [
      "Sigma = 0.4508017549014448\n"
     ]
    }
   ],
   "source": [
    "list_ = [6.9, 6.1, 6.2, 6.8, 7.5, 6.3, 6.4, 6.9, 6.7, 6.1]\n",
    "print(f'Sigma = {np.std(list_, ddof=1)}')"
   ]
  },
  {
   "cell_type": "code",
   "execution_count": 14,
   "id": "excited-asian",
   "metadata": {},
   "outputs": [
    {
     "name": "stdout",
     "output_type": "stream",
     "text": [
      "6.911888243028539\n",
      "6.268111756971461\n"
     ]
    }
   ],
   "source": [
    "print(6.59+2.262*(0.45/np.sqrt(10)))\n",
    "print(6.59-2.262*(0.45/np.sqrt(10)))"
   ]
  },
  {
   "cell_type": "markdown",
   "id": "proud-motivation",
   "metadata": {},
   "source": [
    "### 3. Утверждается, что шарики для подшипников, изготовленные автоматическим станком, имеют средний диаметр 17 мм. Используя односторонний критерий с α=0,05, проверить эту гипотезу, если в выборке из n=100 шариков средний диаметр оказался равным 17.5 мм, а дисперсия известна и равна 4 кв.мм."
   ]
  },
  {
   "cell_type": "markdown",
   "id": "regular-cholesterol",
   "metadata": {},
   "source": [
    "$\\mu_0 = 17 \\newline$\n",
    "$\\alpha = 0.05 \\newline$\n",
    "$\\mu = 17.5 \\newline$\n",
    "$n = 100 \\newline$\n",
    "$D(X) = 4 \\,\\,\\,\\,\\, \\sigma = 2 \\newline$\n",
    "$H_0:\\,\\,\\,\\mu=\\mu_0\\newline$\n",
    "$H_1:\\,\\,\\,\\mu>\\mu_0\\newline$\n",
    "$Z_{calc} = \\frac{\\overline X-\\mu_0}{\\frac{\\sigma}{\\sqrt n}}=\\frac{17.5-17}{\\frac{2}{\\sqrt{100}}}=\\frac{0.5}{0.2}=2.5 \\newline$\n",
    "$Z_{table} = 1.645 \\newline$\n",
    "Так как Z расчётное больше Z табличное, верна гипотеза H1 на уровне значимости 5% $\\newline$"
   ]
  },
  {
   "cell_type": "code",
   "execution_count": 16,
   "id": "plain-kansas",
   "metadata": {},
   "outputs": [
    {
     "data": {
      "text/plain": [
       "2.5"
      ]
     },
     "execution_count": 16,
     "metadata": {},
     "output_type": "execute_result"
    }
   ],
   "source": [
    "(17.5-17)/(2/np.sqrt(100))"
   ]
  },
  {
   "cell_type": "markdown",
   "id": "functional-desire",
   "metadata": {},
   "source": [
    "### 4. Продавец утверждает, что средний вес пачки печенья составляет 200 г. Из партии извлечена выборка из 10 пачек. Вес каждой пачки составляет: 202, 203, 199, 197, 195, 201, 200, 204, 194, 190. Известно, что их веса распределены нормально. Верно ли утверждение продавца, если учитывать, что доверительная вероятность равна 99%?"
   ]
  },
  {
   "cell_type": "markdown",
   "id": "universal-accommodation",
   "metadata": {},
   "source": [
    "$\\mu_0 = 200 \\newline$\n",
    "$n = 10 \\newline$\n",
    "$reliability = 99\\% = 0.99 \\,\\,\\, \\alpha = 0.5\\% = 0.005 \\newline$\n",
    "$\\overline X = (202 + 203 + 199 + 197 + 195 + 201 + 200 + 204 + 194 + 190)/10 = 198.5  \\newline$\n",
    "$\\sigma = \\sqrt{\\frac{\\sum\\limits_{i = 1}^n(x_i - \\overline{x})^2}{n - 1}} \\approx 4.45 \\newline$\n",
    "$H_0: \\,\\,\\, \\mu = \\mu_0 \\newline$\n",
    "$H_1: \\,\\,\\, \\mu \\neq \\mu_0 \\newline$\n",
    "$T_{calc} = \\frac{\\overline X-\\mu_0}{\\frac{\\sigma}{\\sqrt n}} = \\frac{198.5-200}{\\frac{4.45}{\\sqrt{10}}} \\approx -1.07 \\newline$\n",
    "$T_{table} = \\pm3.25 \\newline$\n",
    "Т расчётное больше левого T табличного и меньше правого T табличного, значит гипотеза H0 верна на уровне значимости 1%$\\newline$\n",
    "Утверждение продавца верно."
   ]
  },
  {
   "cell_type": "code",
   "execution_count": 20,
   "id": "functioning-peeing",
   "metadata": {},
   "outputs": [
    {
     "data": {
      "text/plain": [
       "198.5"
      ]
     },
     "execution_count": 20,
     "metadata": {},
     "output_type": "execute_result"
    }
   ],
   "source": [
    "(202 + 203 + 199 + 197 + 195 + 201 + 200 + 204 + 194 + 190)/10"
   ]
  },
  {
   "cell_type": "code",
   "execution_count": 21,
   "id": "concrete-correlation",
   "metadata": {},
   "outputs": [
    {
     "name": "stdout",
     "output_type": "stream",
     "text": [
      "Sigma = 4.453463071962462\n"
     ]
    }
   ],
   "source": [
    "list_ = [202, 203, 199, 197, 195, 201, 200, 204, 194, 190]\n",
    "print(f'Sigma = {np.std(list_, ddof=1)}')"
   ]
  },
  {
   "cell_type": "code",
   "execution_count": 22,
   "id": "beginning-drilling",
   "metadata": {},
   "outputs": [
    {
     "data": {
      "text/plain": [
       "-1.0659362899443976"
      ]
     },
     "execution_count": 22,
     "metadata": {},
     "output_type": "execute_result"
    }
   ],
   "source": [
    "(198.5-200)/(4.45/np.sqrt(10))"
   ]
  }
 ],
 "metadata": {
  "kernelspec": {
   "display_name": "Python 3",
   "language": "python",
   "name": "python3"
  },
  "language_info": {
   "codemirror_mode": {
    "name": "ipython",
    "version": 3
   },
   "file_extension": ".py",
   "mimetype": "text/x-python",
   "name": "python",
   "nbconvert_exporter": "python",
   "pygments_lexer": "ipython3",
   "version": "3.9.1"
  }
 },
 "nbformat": 4,
 "nbformat_minor": 5
}
