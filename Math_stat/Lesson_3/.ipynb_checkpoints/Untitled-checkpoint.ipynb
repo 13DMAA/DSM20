{
 "cells": [
  {
   "cell_type": "code",
   "execution_count": 62,
   "id": "local-poker",
   "metadata": {},
   "outputs": [],
   "source": [
    "import numpy as np\n",
    "def fact(n):\n",
    "    return np.math.factorial(n)\n",
    "def combinations(n,k):\n",
    "    return int(fact(n)/(fact(k)*fact(n-k)))\n",
    "def mean_(list_):\n",
    "    return sum(list_)/len(list_)\n",
    "def dispersion(list_, shift = 0):\n",
    "    list_mean = mean_(list_)\n",
    "    list__=[(i-list_mean)**2 for i in list_]\n",
    "    if not shift:\n",
    "        return (sum(list__))/len(list__)\n",
    "    else:\n",
    "        return (sum(list__))/(len(list__)-1)\n",
    "def std_(list_):\n",
    "    return np.sqrt(dispersion(list_))"
   ]
  },
  {
   "cell_type": "markdown",
   "id": "moderate-spice",
   "metadata": {},
   "source": [
    "## 1. Даны значения зарплат из выборки выпускников: 100, 80, 75, 77, 89, 33, 45, 25, 65, 17, 30, 24, 57, 55, 70, 75, 65, 84, 90, 150. Посчитать (желательно без использования статистических методов наподобие std, var, mean) среднее арифметическое, среднее квадратичное отклонение, смещенную и несмещенную оценки дисперсий для данной выборки."
   ]
  },
  {
   "cell_type": "code",
   "execution_count": 55,
   "id": "provincial-stations",
   "metadata": {},
   "outputs": [
    {
     "name": "stdout",
     "output_type": "stream",
     "text": [
      "Среднее арифметическое = 65.3\n",
      "Проверка: 65.3\n",
      "Среднее квадратичное отклонение = 30.823854398825596\n",
      "Проверка: 30.823854398825596\n",
      "Смещенная оценка дисперсии = 1000.1157894736842\n",
      "Проверка: 1000.1157894736842\n",
      "Несмещенная оценка дисперсии = 950.11\n",
      "Проверка: 950.11\n"
     ]
    }
   ],
   "source": [
    "salary = [100, 80, 75, 77, 89, 33, 45, 25, 65, 17, 30, 24, 57, 55, 70, 75, 65, 84, 90, 150]\n",
    "print(f'Среднее арифметическое = {mean_(salary)}')\n",
    "print(f'Проверка: {np.mean(salary)}')\n",
    "print(f'Среднее квадратичное отклонение = {std_(salary)}')\n",
    "print(f'Проверка: {np.std(salary, ddof=0)}')\n",
    "print(f'Смещенная оценка дисперсии = {dispersion(salary, 1)}')\n",
    "print(f'Проверка: {np.var(salary, ddof=1)}')\n",
    "print(f'Несмещенная оценка дисперсии = {dispersion(salary)}')\n",
    "print(f'Проверка: {np.var(salary, ddof=0)}')"
   ]
  },
  {
   "cell_type": "markdown",
   "id": "listed-bridges",
   "metadata": {},
   "source": [
    "## 2. В первом ящике находится 8 мячей, из которых 5 - белые. Во втором ящике - 12 мячей, из которых 5 белых. Из первого ящика вытаскивают случайным образом два мяча, из второго - 4. Какова вероятность того, что 3 мяча белые?"
   ]
  },
  {
   "cell_type": "markdown",
   "id": "extreme-force",
   "metadata": {},
   "source": [
    "$[*****\\,\\,\\,\\,\\,***]\\,\\,\\,\\,\\,\\,\\,\\,\\,\\,\\,\\,\\,\\,\\,\\,\\,\\,\\,\\,[*****\\,\\,\\,\\,\\,*******]\\newline$\n",
    "5 + 3 = 8$\\,\\,\\,\\,\\,\\,\\,\\,\\,\\,\\,\\,\\,\\,\\,\\,\\,\\,\\,\\,\\,\\,\\,\\,\\,\\,\\,\\,\\,\\,\\,\\,\\,\\,\\,\\,\\,\\,\\,\\,\\,\\,$5 + 7 = 12"
   ]
  },
  {
   "cell_type": "markdown",
   "id": "attempted-spectacular",
   "metadata": {},
   "source": [
    "Вероятность того, что 3 мяча белые определяется как:$\\newline$\n",
    "или из первого ящика достали 1 белый мяч и из второго ящика 2 белых мяча$\\newline$\n",
    "или из первого ящика достали 2 белых мяча и из второго ящика 1 белый мяч$\\newline$\n",
    "или из первого ящика достали 0 белых мячей и из второго ящика 3 белых мяча$\\newline$\n",
    "$\\newline$\n",
    "$P_1 = 0.22727272727272724\\newline$\n",
    "$P_2 = 0.12626262626262627\\newline$\n",
    "$P_3 = 0.005050505050505049\\newline$\n",
    "$P = P_1 + P_2 + P_3 = 36\\%\\newline$"
   ]
  },
  {
   "cell_type": "code",
   "execution_count": 64,
   "id": "fitted-liverpool",
   "metadata": {},
   "outputs": [
    {
     "data": {
      "text/plain": [
       "0.22727272727272724"
      ]
     },
     "execution_count": 64,
     "metadata": {},
     "output_type": "execute_result"
    }
   ],
   "source": [
    "combinations(5, 1)*combinations(3, 1)/combinations(8, 2)*combinations(5, 2)*combinations(7, 2)/combinations(12, 4)"
   ]
  },
  {
   "cell_type": "code",
   "execution_count": 66,
   "id": "preliminary-report",
   "metadata": {},
   "outputs": [
    {
     "data": {
      "text/plain": [
       "0.12626262626262627"
      ]
     },
     "execution_count": 66,
     "metadata": {},
     "output_type": "execute_result"
    }
   ],
   "source": [
    "combinations(5, 2)/combinations(8, 2)*combinations(5, 1)*combinations(7, 3)/combinations(12, 4)"
   ]
  },
  {
   "cell_type": "code",
   "execution_count": 70,
   "id": "japanese-meaning",
   "metadata": {},
   "outputs": [
    {
     "data": {
      "text/plain": [
       "0.005050505050505049"
      ]
     },
     "execution_count": 70,
     "metadata": {},
     "output_type": "execute_result"
    }
   ],
   "source": [
    "1/combinations(8, 2)*combinations(5, 3)*combinations(7, 1)/combinations(12, 4)"
   ]
  },
  {
   "cell_type": "code",
   "execution_count": 73,
   "id": "imposed-permission",
   "metadata": {},
   "outputs": [
    {
     "data": {
      "text/plain": [
       "36.0"
      ]
     },
     "execution_count": 73,
     "metadata": {},
     "output_type": "execute_result"
    }
   ],
   "source": [
    "round(0.22727272727272724+0.12626262626262627+0.005050505050505049, 2)*100"
   ]
  },
  {
   "cell_type": "markdown",
   "id": "whole-appeal",
   "metadata": {},
   "source": [
    "## 3. На соревновании по биатлону один из трех спортсменов стреляет и попадает в мишень. Вероятность попадания для первого спортсмена равна 0.9, для второго — 0.8, для третьего — 0.6. Найти вероятность того, что выстрел произведен: a). первым спортсменом б). вторым спортсменом в). третьим спортсменом"
   ]
  },
  {
   "cell_type": "markdown",
   "id": "solar-underground",
   "metadata": {},
   "source": [
    "Формула Байеса$\\newline$\n",
    "$P(B_x|A)=\\frac{P(B_x)P(A|B_x)}{P(A)}\\newline$\n",
    "$P(A|B_1)=0.9\\newline$\n",
    "$P(A|B_2)=0.8\\newline$\n",
    "$P(A|B_3)=0.6\\newline$\n",
    "$P(B_1)=P(B_2)=P(B_3)=\\frac13\\newline$\n",
    "$P(A)=\\frac{0.9}3+\\frac{0.8}3+\\frac{0.6}3 \\approx 0.77\\newline$\n",
    "$P(B_1|A)=\\frac{\\frac130.9}{0.77} \\approx 0.39 = 39\\%\\newline$\n",
    "$P(B_2|A)=\\frac{\\frac130.8}{0.77} \\approx 0.35 = 35\\%\\newline$\n",
    "$P(B_3|A)=\\frac{\\frac130.6}{0.77} \\approx 0.26 = 26\\%\\newline$"
   ]
  },
  {
   "cell_type": "code",
   "execution_count": 77,
   "id": "durable-hunter",
   "metadata": {},
   "outputs": [
    {
     "data": {
      "text/plain": [
       "0.7666666666666666"
      ]
     },
     "execution_count": 77,
     "metadata": {},
     "output_type": "execute_result"
    }
   ],
   "source": [
    "0.9/3+0.8/3+0.6/3"
   ]
  },
  {
   "cell_type": "code",
   "execution_count": 78,
   "id": "close-difficulty",
   "metadata": {},
   "outputs": [
    {
     "data": {
      "text/plain": [
       "0.3896103896103896"
      ]
     },
     "execution_count": 78,
     "metadata": {},
     "output_type": "execute_result"
    }
   ],
   "source": [
    "1/3*0.9/0.77"
   ]
  },
  {
   "cell_type": "code",
   "execution_count": 79,
   "id": "fallen-convertible",
   "metadata": {},
   "outputs": [
    {
     "data": {
      "text/plain": [
       "0.3463203463203463"
      ]
     },
     "execution_count": 79,
     "metadata": {},
     "output_type": "execute_result"
    }
   ],
   "source": [
    "1/3*0.8/0.77"
   ]
  },
  {
   "cell_type": "code",
   "execution_count": 80,
   "id": "trying-strap",
   "metadata": {},
   "outputs": [
    {
     "data": {
      "text/plain": [
       "0.2597402597402597"
      ]
     },
     "execution_count": 80,
     "metadata": {},
     "output_type": "execute_result"
    }
   ],
   "source": [
    "1/3*0.6/0.77"
   ]
  },
  {
   "cell_type": "markdown",
   "id": "exact-ferry",
   "metadata": {},
   "source": [
    "## 4. В университет на факультеты A и B поступило равное количество студентов, а на факультет C студентов поступило столько же, сколько на A и B вместе. Вероятность того, что студент факультета A сдаст первую сессию, равна 0.8. Для студента факультета B эта вероятность равна 0.7, а для студента факультета C - 0.9. Студент сдал первую сессию. Какова вероятность, что он учится: a). на факультете A б). на факультете B в). на факультете C?"
   ]
  },
  {
   "cell_type": "markdown",
   "id": "photographic-bangladesh",
   "metadata": {},
   "source": [
    "Формула Байеса$\\newline$\n",
    "$P(B_x|A)=\\frac{P(B_x)P(A|B_x)}{P(A)}\\newline$\n",
    "$P(A|B_1)=0.8\\newline$\n",
    "$P(A|B_2)=0.7\\newline$\n",
    "$P(A|B_3)=0.9\\newline$\n",
    "$P(B_1)=P(B_2)=\\frac14\\newline$\n",
    "$P(B_3)=\\frac12\\newline$\n",
    "$P(A)=\\frac{0.8}4+\\frac{0.7}4+\\frac{0.9}2=0.825\\newline$\n",
    "$P(B_1|A)=\\frac{\\frac140.8}{0.825} \\approx 0.24 = 24\\%\\newline$\n",
    "$P(B_2|A)=\\frac{\\frac140.7}{0.825} \\approx 0.21 = 21\\%\\newline$\n",
    "$P(B_3|A)=\\frac{\\frac120.9}{0.825}=0.54 = 54\\%\\newline$"
   ]
  },
  {
   "cell_type": "code",
   "execution_count": 81,
   "id": "yellow-boring",
   "metadata": {},
   "outputs": [
    {
     "data": {
      "text/plain": [
       "0.825"
      ]
     },
     "execution_count": 81,
     "metadata": {},
     "output_type": "execute_result"
    }
   ],
   "source": [
    "0.8/4+0.7/4+0.9/2"
   ]
  },
  {
   "cell_type": "code",
   "execution_count": 82,
   "id": "imperial-terrain",
   "metadata": {},
   "outputs": [
    {
     "data": {
      "text/plain": [
       "0.24242424242424246"
      ]
     },
     "execution_count": 82,
     "metadata": {},
     "output_type": "execute_result"
    }
   ],
   "source": [
    "1/4*0.8/0.825"
   ]
  },
  {
   "cell_type": "code",
   "execution_count": 83,
   "id": "phantom-arrangement",
   "metadata": {},
   "outputs": [
    {
     "data": {
      "text/plain": [
       "0.21212121212121213"
      ]
     },
     "execution_count": 83,
     "metadata": {},
     "output_type": "execute_result"
    }
   ],
   "source": [
    "1/4*0.7/0.825"
   ]
  },
  {
   "cell_type": "code",
   "execution_count": 84,
   "id": "capable-hotel",
   "metadata": {},
   "outputs": [
    {
     "data": {
      "text/plain": [
       "0.5454545454545455"
      ]
     },
     "execution_count": 84,
     "metadata": {},
     "output_type": "execute_result"
    }
   ],
   "source": [
    "1/2*0.9/0.825"
   ]
  },
  {
   "cell_type": "markdown",
   "id": "dominant-application",
   "metadata": {},
   "source": [
    "## 5. Устройство состоит из трех деталей. Для первой детали вероятность выйти из строя в первый месяц равна 0.1, для второй - 0.2, для третьей - 0.25. Какова вероятность того, что в первый месяц выйдут из строя: а). все детали б). только две детали в). хотя бы одна деталь г). от одной до двух деталей?"
   ]
  },
  {
   "cell_type": "markdown",
   "id": "silent-remark",
   "metadata": {},
   "source": [
    "$a)\\,0.1*0.2*0.25 = 0.005 = 0.5\\%\\newline$ \n",
    "$b)\\,0.1*0.2+0.1*0.25+0.2*0.25 = 0.095 = 9.5\\%\\newline$\n",
    "$c)\\,0.1+0.2+0.25+0.095+0.005 = 0.65 = 65\\%\\newline$\n",
    "$d)\\,0.095+0.005 = 0.1 = 10\\%$"
   ]
  },
  {
   "cell_type": "code",
   "execution_count": 85,
   "id": "saved-exhibit",
   "metadata": {},
   "outputs": [
    {
     "data": {
      "text/plain": [
       "0.005000000000000001"
      ]
     },
     "execution_count": 85,
     "metadata": {},
     "output_type": "execute_result"
    }
   ],
   "source": [
    "0.1*0.2*0.25"
   ]
  },
  {
   "cell_type": "code",
   "execution_count": 86,
   "id": "considerable-corrections",
   "metadata": {},
   "outputs": [
    {
     "data": {
      "text/plain": [
       "0.095"
      ]
     },
     "execution_count": 86,
     "metadata": {},
     "output_type": "execute_result"
    }
   ],
   "source": [
    "0.1*0.2+0.1*0.25+0.2*0.25"
   ]
  },
  {
   "cell_type": "code",
   "execution_count": 87,
   "id": "informative-writer",
   "metadata": {},
   "outputs": [
    {
     "data": {
      "text/plain": [
       "0.65"
      ]
     },
     "execution_count": 87,
     "metadata": {},
     "output_type": "execute_result"
    }
   ],
   "source": [
    "0.1+0.2+0.25+0.095+0.005"
   ]
  },
  {
   "cell_type": "code",
   "execution_count": 88,
   "id": "accepted-tennis",
   "metadata": {},
   "outputs": [
    {
     "data": {
      "text/plain": [
       "0.1"
      ]
     },
     "execution_count": 88,
     "metadata": {},
     "output_type": "execute_result"
    }
   ],
   "source": [
    "0.095+0.005"
   ]
  }
 ],
 "metadata": {
  "kernelspec": {
   "display_name": "Python 3",
   "language": "python",
   "name": "python3"
  },
  "language_info": {
   "codemirror_mode": {
    "name": "ipython",
    "version": 3
   },
   "file_extension": ".py",
   "mimetype": "text/x-python",
   "name": "python",
   "nbconvert_exporter": "python",
   "pygments_lexer": "ipython3",
   "version": "3.9.1"
  }
 },
 "nbformat": 4,
 "nbformat_minor": 5
}
