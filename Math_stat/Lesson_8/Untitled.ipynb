{
 "cells": [
  {
   "cell_type": "code",
   "execution_count": 29,
   "id": "composite-rochester",
   "metadata": {},
   "outputs": [],
   "source": [
    "import numpy as np\n",
    "from scipy import stats"
   ]
  },
  {
   "cell_type": "markdown",
   "id": "sunrise-greece",
   "metadata": {},
   "source": [
    "### 1. Провести дисперсионный анализ для определения того, есть ли различия среднего роста среди взрослых футболистов, хоккеистов и штангистов.\n",
    "\n",
    "### Даны значения роста в трех группах случайно выбранных спортсменов:\n",
    "\n",
    "### Футболисты: 173, 175, 180, 178, 177, 185, 183, 182.\n",
    "\n",
    "### Хоккеисты: 177, 179, 180, 188, 177, 172, 171, 184, 180.\n",
    "\n",
    "### Штангисты: 172, 173, 169, 177, 166, 180, 178, 177, 172, 166, 170."
   ]
  },
  {
   "cell_type": "markdown",
   "id": "formal-amber",
   "metadata": {},
   "source": [
    "$F_{наблюдаемое} = \\frac{\\sigma^2_F}{\\sigma^2_{остаточное}}$\n",
    "\n",
    "\n",
    "$\\sigma^2_F=\\frac{S^2_F}{k-1}$\n",
    "\n",
    "\n",
    "$\\sigma^2_{остаточное} = \\frac{S^2_{остаточное}}{n-k}$\n",
    "\n",
    "\n",
    "$k = 3$\n",
    "\n",
    "\n",
    "$n1 = 8$\n",
    "\n",
    "\n",
    "$n2 = 9$\n",
    "\n",
    "\n",
    "$n3 = 11$\n",
    "\n",
    "\n",
    "$n_{общее} = 8+9+11 = 28$\n",
    "\n",
    "\n",
    "$\\alpha = 0.05$\n",
    "\n",
    "\n",
    "$F_{табличное} = 3.385$ (нашел таблицу, но в ней нет степени свободы знаменателя со значением 28 - 3 = 25, а есть только 24 -> 3.40 и 26 -> 3.37, взял среднее)"
   ]
  },
  {
   "cell_type": "code",
   "execution_count": 32,
   "id": "pacific-local",
   "metadata": {},
   "outputs": [
    {
     "name": "stdout",
     "output_type": "stream",
     "text": [
      "footballers_height length -> 8\n",
      "hockey_players_height length -> 9\n",
      "weightlifters_height length -> 11\n",
      "total_length = 28\n",
      "footballers_height mean = 179.125\n",
      "hockey_players_height mean = 178.66666666666666\n",
      "weightlifters_height mean = 172.72727272727272\n",
      "total mean = 176.46428571428572\n",
      "S^2 = 830.9642857142858\n",
      "S^2_F = 253.9074675324678\n",
      "S^2_OCT = 577.0568181818181\n",
      "S^2 = 830.9642857142859\n",
      "S^2 == S^2 -> True\n",
      "sigma^2_F = 126.9537337662339\n",
      "sigma^2_OCT = 23.082272727272724\n",
      "F_H = 5.500053450812599\n"
     ]
    }
   ],
   "source": [
    "k = 3\n",
    "footballers_height = np.array([173, 175, 180, 178, 177, 185, 183, 182])\n",
    "hockey_players_height = np.array([177, 179, 180, 188, 177, 172, 171, 184, 180])\n",
    "weightlifters_height = np.array([172, 173, 169, 177, 166, 180, 178, 177, 172, 166, 170])\n",
    "print(f'footballers_height length -> {len(footballers_height)}')\n",
    "print(f'hockey_players_height length -> {len(hockey_players_height)}')\n",
    "print(f'weightlifters_height length -> {len(weightlifters_height)}')\n",
    "total_length = len(footballers_height)+len(hockey_players_height)+len(weightlifters_height)\n",
    "print(f'total_length = {total_length}')\n",
    "footballers_height_mean = np.mean(footballers_height)\n",
    "print(f'footballers_height mean = {footballers_height_mean}')\n",
    "hockey_players_height_mean = np.mean(hockey_players_height)\n",
    "print(f'hockey_players_height mean = {hockey_players_height_mean}')\n",
    "weightlifters_height_mean = np.mean(weightlifters_height)\n",
    "print(f'weightlifters_height mean = {weightlifters_height_mean}')\n",
    "total_mean = (sum(footballers_height)+sum(hockey_players_height)+sum(weightlifters_height))/(len(footballers_height)+len(hockey_players_height)+len(weightlifters_height))\n",
    "print(f'total mean = {total_mean}')\n",
    "S2 = sum((footballers_height-total_mean)**2)+sum((hockey_players_height-total_mean)**2)+sum((weightlifters_height-total_mean)**2)\n",
    "print(f'S^2 = {S2}')\n",
    "S2F = ((footballers_height_mean-total_mean)**2)*len(footballers_height)+((hockey_players_height_mean-total_mean)**2)*len(hockey_players_height)+((weightlifters_height_mean-total_mean)**2)*len(weightlifters_height)\n",
    "print(f'S^2_F = {S2F}')\n",
    "S2OCT = sum((footballers_height-footballers_height_mean)**2)+sum((hockey_players_height-hockey_players_height_mean)**2)+sum((weightlifters_height-weightlifters_height_mean)**2)\n",
    "print(f'S^2_OCT = {S2OCT}')\n",
    "print(f'S^2 = {S2F+S2OCT}')\n",
    "print(f'S^2 == S^2 -> {round(S2,2) == round(S2F+S2OCT, 2)}')\n",
    "sigma2F = S2F/(k-1)\n",
    "print(f'sigma^2_F = {sigma2F}')\n",
    "sigma2OCT = S2OCT/(total_length - k)\n",
    "print(f'sigma^2_OCT = {sigma2OCT}')\n",
    "F_H = sigma2F/sigma2OCT\n",
    "print(f'F_H = {F_H}')"
   ]
  },
  {
   "cell_type": "markdown",
   "id": "arabic-taste",
   "metadata": {},
   "source": [
    "$F_{табличное} = 3.385$ меньше, чем $F_{наблюдаемое} = 5.5$, следовательно делаем вывод, что вид спорта оказывает статистически значимый эффект на рост спортсменов, найдены статистически значимые отличия между ростом спортсменов разных видов спорта.\n",
    "\n",
    "\n",
    "Вид спорта влияет на рост избираемых в него людей."
   ]
  },
  {
   "cell_type": "markdown",
   "id": "heated-batch",
   "metadata": {},
   "source": [
    "ANOVA"
   ]
  },
  {
   "cell_type": "code",
   "execution_count": 31,
   "id": "running-vietnamese",
   "metadata": {},
   "outputs": [
    {
     "data": {
      "text/plain": [
       "F_onewayResult(statistic=5.500053450812596, pvalue=0.010482206918698694)"
      ]
     },
     "execution_count": 31,
     "metadata": {},
     "output_type": "execute_result"
    }
   ],
   "source": [
    "stats.f_oneway(footballers_height, hockey_players_height, weightlifters_height)"
   ]
  },
  {
   "cell_type": "markdown",
   "id": "hazardous-vietnamese",
   "metadata": {},
   "source": [
    "pvalue=0.010482206918698694 $\\approx$ 0.01 меньше 0.05, значит площадь pvalue меньше альфа и лежит правее, в области принятия гипотезы H1, вывод выше верен и проверен."
   ]
  },
  {
   "cell_type": "code",
   "execution_count": null,
   "id": "protected-clothing",
   "metadata": {},
   "outputs": [],
   "source": []
  }
 ],
 "metadata": {
  "kernelspec": {
   "display_name": "Python 3",
   "language": "python",
   "name": "python3"
  },
  "language_info": {
   "codemirror_mode": {
    "name": "ipython",
    "version": 3
   },
   "file_extension": ".py",
   "mimetype": "text/x-python",
   "name": "python",
   "nbconvert_exporter": "python",
   "pygments_lexer": "ipython3",
   "version": "3.9.1"
  }
 },
 "nbformat": 4,
 "nbformat_minor": 5
}
