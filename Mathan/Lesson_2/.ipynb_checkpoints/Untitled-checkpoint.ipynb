{
 "cells": [
  {
   "cell_type": "code",
   "execution_count": null,
   "id": "returning-sperm",
   "metadata": {},
   "outputs": [],
   "source": [
    "1. Представьте в виде несократимой рациональной дроби:\n",
    "\n",
    "а)0.(216);\n",
    "б)1.0(01).\n",
    "\n",
    "a = 0,(216)\n",
    "1000a = 216,(216) = 216 + a\n",
    "999 a = 216\n",
    "a = 216/999 = 24/111 = 8/37\n",
    "\n",
    "b = 1,0(01)\n",
    "10b = 10,(01)\n",
    "1000b = 1001,(01)\n",
    "(10,(01)+991)/10 = 1000b/10 = 100b\n",
    "1,0(01) + 99,1 = 100b = b + 99,1\n",
    "99b = 99,1\n",
    "b = 991/990"
   ]
  },
  {
   "cell_type": "code",
   "execution_count": null,
   "id": "sacred-floating",
   "metadata": {},
   "outputs": [],
   "source": [
    "3. Проверьте любым способ, является ли данные логические формулы тавтологией:\n",
    "a)(A∨B)→(B∨notA)\n",
    "True или True->True или False\n",
    "True->True\n",
    "\n",
    "б)A→(A∨(notB∧A))\n",
    "True->True или (False или True)\n",
    "True->True или True\n",
    "True->True"
   ]
  },
  {
   "cell_type": "code",
   "execution_count": null,
   "id": "heard-arbitration",
   "metadata": {},
   "outputs": [],
   "source": [
    "4. Сформулируйте словесно высказывания:\n",
    "\n",
    "a)(notA∨B)→notC\n",
    "Если сегодня пасмурно или сыро, то я не поеду на дачу\n",
    "\n",
    "б)C→(A∨notB)\n",
    "Я еду на дачу, когда или солнечная погода, или сухо.\n",
    "\n",
    "A: сегодня светит солнце;\n",
    "B: сегодня сыро;\n",
    "C: я поеду на дачу."
   ]
  },
  {
   "cell_type": "code",
   "execution_count": null,
   "id": "filled-enhancement",
   "metadata": {},
   "outputs": [],
   "source": [
    "5. Пользуясь правилом построения противоположного высказывания, запишите утверждения, противоположные следующим:\n",
    "\n",
    "a) На любом курсе каждого факультета есть студенты, сдающие все экзамены на «отлично».\n",
    "Есть факультеты, на некоторых курсах которых, все студенты не сдают все экзамены на отлично.\n",
    "\n",
    "\n",
    "б) В любом самолете на рейсе Вашингтон-Москва присутствует хотя бы один сотрудник силовых органов, в каждой пуговице одежды которого вмонтирован микрофон.\n",
    "Бывают самолеты на рейсе Вашингтон-Москва, где все пассажиры - сотрудники силовых органов, в некоторых пуговицах одежды которых, вмонтирован микрофон."
   ]
  }
 ],
 "metadata": {
  "kernelspec": {
   "display_name": "Python 3",
   "language": "python",
   "name": "python3"
  },
  "language_info": {
   "codemirror_mode": {
    "name": "ipython",
    "version": 3
   },
   "file_extension": ".py",
   "mimetype": "text/x-python",
   "name": "python",
   "nbconvert_exporter": "python",
   "pygments_lexer": "ipython3",
   "version": "3.9.1"
  }
 },
 "nbformat": 4,
 "nbformat_minor": 5
}
