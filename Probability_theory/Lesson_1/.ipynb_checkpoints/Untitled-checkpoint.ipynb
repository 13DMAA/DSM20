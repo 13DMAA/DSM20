{
 "cells": [
  {
   "cell_type": "code",
   "execution_count": 1,
   "id": "found-traveler",
   "metadata": {},
   "outputs": [],
   "source": [
    "import numpy as np\n",
    "import random\n",
    "def fact(n):\n",
    "    return np.math.factorial(n)\n",
    "def combinations(k,n):\n",
    "    return int(fact(n)/(fact(k)*fact(n-k)))"
   ]
  },
  {
   "cell_type": "markdown",
   "id": "elementary-scotland",
   "metadata": {},
   "source": [
    "## 1. Из колоды в 52 карты извлекаются случайным образом 4 карты.\n",
    "\n",
    "### a) Найти вероятность того, что все карты – крести. "
   ]
  },
  {
   "cell_type": "markdown",
   "id": "wicked-palace",
   "metadata": {},
   "source": [
    "$C_n^k = C_{52}^4 = \\frac{52!}{4!(52-4)!} = 270725- это\\,количество\\,сочетаний \\,любых \\,4 \\,карт \\,из \\,52$"
   ]
  },
  {
   "cell_type": "code",
   "execution_count": 33,
   "id": "pleased-bhutan",
   "metadata": {},
   "outputs": [
    {
     "data": {
      "text/plain": [
       "270725"
      ]
     },
     "execution_count": 33,
     "metadata": {},
     "output_type": "execute_result"
    }
   ],
   "source": [
    "combinations(4, 52)"
   ]
  },
  {
   "cell_type": "markdown",
   "id": "auburn-subsection",
   "metadata": {},
   "source": [
    "В колоде 4 масти => крести из них 52/4 = 13 карт"
   ]
  },
  {
   "cell_type": "markdown",
   "id": "better-shelf",
   "metadata": {},
   "source": [
    "$C_{13}^4 = \\frac{13!}{4!(13-4)!} = 715 - это \\,количество \\,сочетаний \\,крести \\,из \\,4 \\,карт$"
   ]
  },
  {
   "cell_type": "code",
   "execution_count": 34,
   "id": "stable-desperate",
   "metadata": {},
   "outputs": [
    {
     "data": {
      "text/plain": [
       "715"
      ]
     },
     "execution_count": 34,
     "metadata": {},
     "output_type": "execute_result"
    }
   ],
   "source": [
    "combinations(4, 13)"
   ]
  },
  {
   "cell_type": "markdown",
   "id": "anonymous-clinton",
   "metadata": {},
   "source": [
    "Выходит, что число благоприятствующих исходов, что все 4 карты - крести равно 715, а общее число возможных исходов равно 270725"
   ]
  },
  {
   "cell_type": "markdown",
   "id": "unlimited-calcium",
   "metadata": {},
   "source": [
    "$Следовательно \\,вероятность \\,того, \\,что \\,все \\,карты - крести = \\frac{715}{270725} = 0.0026 = 0.26\\%$"
   ]
  },
  {
   "cell_type": "code",
   "execution_count": 13,
   "id": "quick-medication",
   "metadata": {},
   "outputs": [
    {
     "data": {
      "text/plain": [
       "0.0026410564225690276"
      ]
     },
     "execution_count": 13,
     "metadata": {},
     "output_type": "execute_result"
    }
   ],
   "source": [
    "715/270725"
   ]
  },
  {
   "cell_type": "markdown",
   "id": "arranged-airfare",
   "metadata": {},
   "source": [
    "Проверим"
   ]
  },
  {
   "cell_type": "code",
   "execution_count": 4,
   "id": "professional-legislation",
   "metadata": {},
   "outputs": [
    {
     "name": "stdout",
     "output_type": "stream",
     "text": [
      "count = 10000000\n",
      "count = 20000000\n",
      "count = 30000000\n",
      "count = 40000000\n",
      "count = 50000000\n",
      "count = 60000000\n",
      "count = 70000000\n",
      "count = 80000000\n",
      "count = 90000000\n",
      "count = 100000000\n",
      "Итог: 0.39% cравниваем с полученным результатом 0.26%\n"
     ]
    }
   ],
   "source": [
    "iterations = 10**8\n",
    "profit = 0\n",
    "four_cards = 0\n",
    "count = 0\n",
    "while count < iterations:\n",
    "    for i in range(4):\n",
    "        if random.randint(1, 52) <= 13:\n",
    "            four_cards += 1\n",
    "#             print(four_cards)\n",
    "    if four_cards == 4:\n",
    "#         print(f'profit = {profit}')\n",
    "        profit += 1\n",
    "    four_cards = 0\n",
    "    count += 1\n",
    "#     print(count)\n",
    "    if not count%(iterations/10) and count >= iterations/10:\n",
    "        print(f'count = {count}')\n",
    "# print(f'{profit} {iterations} {profit/iterations}')\n",
    "print(f'Итог: {round(profit/iterations*100, 2)}% cравниваем с полученным результатом 0.26%')"
   ]
  },
  {
   "cell_type": "markdown",
   "id": "blessed-clinic",
   "metadata": {},
   "source": [
    "### б) Найти вероятность, что среди 4-х карт окажется хотя бы один туз."
   ]
  },
  {
   "cell_type": "markdown",
   "id": "appropriate-bridges",
   "metadata": {},
   "source": [
    "$C_{48}^3 = 17296$ - это количество сочетаний из трех карт без тузов из 48 карт"
   ]
  },
  {
   "cell_type": "code",
   "execution_count": 7,
   "id": "superb-compression",
   "metadata": {},
   "outputs": [
    {
     "data": {
      "text/plain": [
       "17296"
      ]
     },
     "execution_count": 7,
     "metadata": {},
     "output_type": "execute_result"
    }
   ],
   "source": [
    "combinations(3, 48)"
   ]
  },
  {
   "cell_type": "markdown",
   "id": "public-supply",
   "metadata": {},
   "source": [
    "#### Количество сочетаний трех карт с каждым из тузов равно 17296*4 = 69184"
   ]
  },
  {
   "cell_type": "code",
   "execution_count": 8,
   "id": "artistic-registrar",
   "metadata": {},
   "outputs": [
    {
     "data": {
      "text/plain": [
       "69184"
      ]
     },
     "execution_count": 8,
     "metadata": {},
     "output_type": "execute_result"
    }
   ],
   "source": [
    "17296*4"
   ]
  },
  {
   "cell_type": "markdown",
   "id": "forced-dependence",
   "metadata": {},
   "source": [
    "$C_{48}^2 = 1128 - это \\,количество \\,сочетаний \\,из \\,двух \\,карт \\,без \\,тузов \\,из \\,48 \\,карт$"
   ]
  },
  {
   "cell_type": "code",
   "execution_count": 9,
   "id": "official-regular",
   "metadata": {},
   "outputs": [
    {
     "data": {
      "text/plain": [
       "1128"
      ]
     },
     "execution_count": 9,
     "metadata": {},
     "output_type": "execute_result"
    }
   ],
   "source": [
    "combinations(2, 48)"
   ]
  },
  {
   "cell_type": "markdown",
   "id": "interracial-spirituality",
   "metadata": {},
   "source": [
    "$C_{4}^2 = 6 - это \\,количество \\,сочетаний \\,из \\,двух \\,тузов \\,из \\,всех \\,четырех \\,тузов$"
   ]
  },
  {
   "cell_type": "code",
   "execution_count": 11,
   "id": "daily-celtic",
   "metadata": {},
   "outputs": [
    {
     "data": {
      "text/plain": [
       "6"
      ]
     },
     "execution_count": 11,
     "metadata": {},
     "output_type": "execute_result"
    }
   ],
   "source": [
    "combinations(2, 4)"
   ]
  },
  {
   "cell_type": "markdown",
   "id": "considerable-story",
   "metadata": {},
   "source": [
    "#### Количество сочетаний двух карт с двумя тузами равно 1128*6 = 6768"
   ]
  },
  {
   "cell_type": "code",
   "execution_count": 12,
   "id": "threatened-brave",
   "metadata": {},
   "outputs": [
    {
     "data": {
      "text/plain": [
       "6768"
      ]
     },
     "execution_count": 12,
     "metadata": {},
     "output_type": "execute_result"
    }
   ],
   "source": [
    "1128*6"
   ]
  },
  {
   "cell_type": "markdown",
   "id": "comprehensive-roller",
   "metadata": {},
   "source": [
    "$C_{4}^3 = 4 - это \\,количество \\,сочетаний \\,из \\,трех \\,тузов$"
   ]
  },
  {
   "cell_type": "code",
   "execution_count": 19,
   "id": "intelligent-asthma",
   "metadata": {},
   "outputs": [
    {
     "data": {
      "text/plain": [
       "4"
      ]
     },
     "execution_count": 19,
     "metadata": {},
     "output_type": "execute_result"
    }
   ],
   "source": [
    "combinations(3, 4)"
   ]
  },
  {
   "cell_type": "markdown",
   "id": "competent-columbus",
   "metadata": {},
   "source": [
    "#### Количество сочетаний одной карты с тремя тузами равно 48*4 = 192"
   ]
  },
  {
   "cell_type": "code",
   "execution_count": 14,
   "id": "capable-limit",
   "metadata": {},
   "outputs": [
    {
     "data": {
      "text/plain": [
       "192"
      ]
     },
     "execution_count": 14,
     "metadata": {},
     "output_type": "execute_result"
    }
   ],
   "source": [
    "48*4"
   ]
  },
  {
   "cell_type": "markdown",
   "id": "convenient-temperature",
   "metadata": {},
   "source": [
    "#### + еще одно сочетание всех четырех тузов"
   ]
  },
  {
   "cell_type": "markdown",
   "id": "verified-newman",
   "metadata": {},
   "source": [
    "## Значит количество сочетаний 4 карт с одним, двумя, тремя и четырьмя тузами равно 69184 + 6768 + 192 + 1 = 76145"
   ]
  },
  {
   "cell_type": "code",
   "execution_count": 20,
   "id": "revolutionary-underwear",
   "metadata": {},
   "outputs": [
    {
     "data": {
      "text/plain": [
       "76145"
      ]
     },
     "execution_count": 20,
     "metadata": {},
     "output_type": "execute_result"
    }
   ],
   "source": [
    "69184+6768+192+1"
   ]
  },
  {
   "cell_type": "markdown",
   "id": "unknown-mobility",
   "metadata": {},
   "source": [
    "А всего сочетаний 4 карт из 52 равно 270725"
   ]
  },
  {
   "cell_type": "markdown",
   "id": "indirect-procedure",
   "metadata": {},
   "source": [
    "$=> вероятность, \\,что \\,среди \\,4-х \\,карт \\,окажется \\,хотя \\,бы \\,один \\,туз = \\frac{76145}{270725} = 0.28 = 28\\%$"
   ]
  },
  {
   "cell_type": "code",
   "execution_count": 21,
   "id": "controlled-classics",
   "metadata": {},
   "outputs": [
    {
     "data": {
      "text/plain": [
       "0.2812632745405855"
      ]
     },
     "execution_count": 21,
     "metadata": {},
     "output_type": "execute_result"
    }
   ],
   "source": [
    "76145/270725"
   ]
  },
  {
   "cell_type": "code",
   "execution_count": 2,
   "id": "clean-links",
   "metadata": {},
   "outputs": [
    {
     "name": "stdout",
     "output_type": "stream",
     "text": [
      "count = 10000000\n",
      "count = 20000000\n",
      "count = 30000000\n",
      "count = 40000000\n",
      "count = 50000000\n",
      "count = 60000000\n",
      "count = 70000000\n",
      "count = 80000000\n",
      "count = 90000000\n",
      "count = 100000000\n",
      "Итог: 26.71% cравниваем с полученным результатом 28%\n"
     ]
    }
   ],
   "source": [
    "iterations = 10**8\n",
    "profit = 0\n",
    "ace = 0\n",
    "count = 0\n",
    "while count < iterations:\n",
    "    for i in range(4):\n",
    "        if random.randint(1, 52) == 13 or random.randint(1, 52) == 26 or random.randint(1, 52) == 39 or random.randint(1, 52) == 52:\n",
    "            ace += 1\n",
    "    if ace:\n",
    "#         print(f'profit = {profit}')\n",
    "        profit += 1\n",
    "    ace = 0\n",
    "    count += 1\n",
    "    if not count%(iterations/10) and count >= iterations/10:\n",
    "        print(f'count = {count}')\n",
    "# print(f'{profit} {iterations} {profit/iterations}')\n",
    "print(f'Итог: {round(profit/iterations*100, 2)}% cравниваем с полученным результатом 28%')"
   ]
  },
  {
   "cell_type": "markdown",
   "id": "dietary-disney",
   "metadata": {},
   "source": [
    "### Что-то у меня получаются слишком различные результаты с экспериментами ((("
   ]
  },
  {
   "cell_type": "markdown",
   "id": "partial-bobby",
   "metadata": {},
   "source": [
    "## 2. На входной двери подъезда установлен кодовый замок, содержащий десять кнопок с цифрами от 0 до 9. Код содержит три цифры, которые нужно нажать одновременно. Какова вероятность того, что человек, не знающий код, откроет дверь с первой попытки?"
   ]
  },
  {
   "cell_type": "code",
   "execution_count": 2,
   "id": "federal-nickname",
   "metadata": {},
   "outputs": [
    {
     "name": "stdout",
     "output_type": "stream",
     "text": [
      "0.14%\n",
      "code = [5, 0, 6]\n",
      "count = 10000000\n",
      "count = 20000000\n",
      "count = 30000000\n",
      "count = 40000000\n",
      "count = 50000000\n",
      "count = 60000000\n",
      "count = 70000000\n",
      "count = 80000000\n",
      "count = 90000000\n",
      "count = 100000000\n",
      "Итог: 0.83% Сравниваем с полученным результатом 0.14%\n"
     ]
    }
   ],
   "source": [
    "iterations = 10**8\n",
    "print(f'{round((1/10)*(1/9)*(1/8)*100, 2)}%')\n",
    "code = []\n",
    "profit = 0\n",
    "while len(code)<3:\n",
    "    value = random.randint(0,9)\n",
    "    if not len(code):\n",
    "        code.append(value)\n",
    "    elif not code.count(value):\n",
    "        code.append(value)\n",
    "print(f'code = {code}')\n",
    "count = 0\n",
    "def check_equality(list_1, list_2):\n",
    "    list_1.sort()\n",
    "    list_2.sort()\n",
    "    if list_1 == list_2:\n",
    "        return True\n",
    "    else:\n",
    "        return False\n",
    "while count < iterations:\n",
    "    input_code = []\n",
    "    while len(input_code)<3:\n",
    "        value = random.randint(0,9)\n",
    "        if not len(input_code):\n",
    "            input_code.append(value)\n",
    "        elif not input_code.count(value):\n",
    "            input_code.append(value)\n",
    "#     print(f'input_code = {input_code}')\n",
    "    if check_equality(code, input_code):\n",
    "        profit += 1\n",
    "#         print('!!!!!!!!PROFIT!!!!!!!!! {profit} | {count}')\n",
    "    count += 1\n",
    "    if not count%(iterations/10) and count >= iterations/10:\n",
    "        print(f'count = {count}')\n",
    "print(f'Итог: {round(profit/iterations*100, 2)}% cравниваем с полученным результатом 0.14%')"
   ]
  },
  {
   "cell_type": "markdown",
   "id": "white-picture",
   "metadata": {},
   "source": [
    "#### Снова результат моего эксперимента сильно отличается от полученного значения ((("
   ]
  },
  {
   "cell_type": "markdown",
   "id": "found-jerusalem",
   "metadata": {},
   "source": [
    "## 3. В ящике имеется 15 деталей, из которых 9 окрашены. Рабочий случайным образом извлекает 3 детали. Какова вероятность того, что все извлеченные детали окрашены?"
   ]
  },
  {
   "cell_type": "markdown",
   "id": "collect-hollywood",
   "metadata": {},
   "source": [
    "Вероятность достать окрашенную первую окрашенную деталь равна $\\frac9{15}$, вторую, если первая окрашенная уже в руках $\\frac8{14}$, третью $\\frac7{13}$, значит вероятность достать по очереди все три окрашенные детали равна $\\frac{9*8*7}{15*14*13}$ = 0.18 = 18$\\%$"
   ]
  },
  {
   "cell_type": "code",
   "execution_count": 3,
   "id": "superior-provision",
   "metadata": {},
   "outputs": [
    {
     "data": {
      "text/plain": [
       "0.18461538461538463"
      ]
     },
     "execution_count": 3,
     "metadata": {},
     "output_type": "execute_result"
    }
   ],
   "source": [
    "(9*8*7)/(15*14*13)"
   ]
  },
  {
   "cell_type": "markdown",
   "id": "african-speaking",
   "metadata": {},
   "source": [
    "## 4. В лотерее 100 билетов. Из них 2 выигрышных. Какова вероятность того, что 2 приобретенных билета окажутся выигрышными?"
   ]
  },
  {
   "cell_type": "markdown",
   "id": "indirect-alaska",
   "metadata": {},
   "source": [
    "Пока не распродано ни одного билета вероятность купить первый выигрышный равна $\\frac2{100}$, далее вероятность купить второй выигрышный равна $\\frac1{99}$ => вероятность купить 2 выигрышных билета подряд равна $\\frac2{9900}$ = 0.0002 = 0.02%"
   ]
  },
  {
   "cell_type": "code",
   "execution_count": 1,
   "id": "spread-population",
   "metadata": {},
   "outputs": [
    {
     "data": {
      "text/plain": [
       "0.00020202020202020202"
      ]
     },
     "execution_count": 1,
     "metadata": {},
     "output_type": "execute_result"
    }
   ],
   "source": [
    "2/100*1/99"
   ]
  }
 ],
 "metadata": {
  "kernelspec": {
   "display_name": "Python 3",
   "language": "python",
   "name": "python3"
  },
  "language_info": {
   "codemirror_mode": {
    "name": "ipython",
    "version": 3
   },
   "file_extension": ".py",
   "mimetype": "text/x-python",
   "name": "python",
   "nbconvert_exporter": "python",
   "pygments_lexer": "ipython3",
   "version": "3.9.1"
  }
 },
 "nbformat": 4,
 "nbformat_minor": 5
}
