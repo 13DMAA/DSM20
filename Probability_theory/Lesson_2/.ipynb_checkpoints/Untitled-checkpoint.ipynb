{
 "cells": [
  {
   "cell_type": "code",
   "execution_count": 1,
   "id": "pediatric-lemon",
   "metadata": {},
   "outputs": [],
   "source": [
    "import numpy as np\n",
    "import random\n",
    "def fact(n):\n",
    "    return np.math.factorial(n)\n",
    "def combinations(k,n):\n",
    "    return int(fact(n)/(fact(k)*fact(n-k)))"
   ]
  },
  {
   "cell_type": "markdown",
   "id": "eastern-simulation",
   "metadata": {},
   "source": [
    "## 1. Вероятность того, что стрелок попадет в мишень, выстрелив один раз, равна 0.8. Стрелок выстрелил 100 раз. Найдите вероятность того, что стрелок попадет в цель ровно 85 раз."
   ]
  },
  {
   "cell_type": "markdown",
   "id": "alpha-winter",
   "metadata": {},
   "source": [
    "$P_{100}(85) = C_{100}^{85}0.8^{85}0.2^{(100-85)} = 0.04 = 4\\%$"
   ]
  },
  {
   "cell_type": "code",
   "execution_count": 3,
   "id": "floral-difference",
   "metadata": {},
   "outputs": [
    {
     "data": {
      "text/plain": [
       "0.048061793700746556"
      ]
     },
     "execution_count": 3,
     "metadata": {},
     "output_type": "execute_result"
    }
   ],
   "source": [
    "combinations(85, 100)*(0.8**85)*(0.2**15)"
   ]
  },
  {
   "cell_type": "markdown",
   "id": "impaired-gentleman",
   "metadata": {},
   "source": [
    "## 2. Вероятность того, что лампочка перегорит в течение первого дня эксплуатации, равна 0.0004. В жилом комплексе после ремонта в один день включили 5000 новых лампочек. Какова вероятность, что ни одна из них не перегорит в первый день? Какова вероятность, что перегорят ровно две?"
   ]
  },
  {
   "cell_type": "markdown",
   "id": "smaller-arrow",
   "metadata": {},
   "source": [
    "$\\lambda_1 = 0.0004*5000 = 2$ - cредняя интенсивность перегорания лампочек на 5000 штук$\\newline$\n",
    "$\\lambda_2 = 0.9996*5000 = 4998$ - cредняя интенсивность не перегорания лампочек на 5000 штук$\\newline$\n",
    "$P_{не\\,перегорания}(5000) = \\frac{4998^{5000}}{5000!}2.72^{-4998}\\newline$\n",
    "$P_{перегорания}(2) = \\frac{2^2}{2!}2.72^{-2} = \\frac2{7.3984} \\approx 0.27 = 27\\%$"
   ]
  },
  {
   "cell_type": "markdown",
   "id": "quick-recall",
   "metadata": {},
   "source": [
    "## 3. Монету подбросили 144 раза. Какова вероятность, что орел выпадет ровно 70 раз?"
   ]
  },
  {
   "cell_type": "markdown",
   "id": "stunning-person",
   "metadata": {},
   "source": [
    "$P_{144}(70) = C_{144}^{70}0.5^{70}0.5^{(144-70)} \\approx 0.06 = 6\\%$"
   ]
  },
  {
   "cell_type": "code",
   "execution_count": 13,
   "id": "original-yacht",
   "metadata": {},
   "outputs": [
    {
     "data": {
      "text/plain": [
       "0.06281178035144776"
      ]
     },
     "execution_count": 13,
     "metadata": {},
     "output_type": "execute_result"
    }
   ],
   "source": [
    "combinations(70, 144)*(0.5**70)*(0.5**74)"
   ]
  },
  {
   "cell_type": "markdown",
   "id": "pacific-knitting",
   "metadata": {},
   "source": [
    "## 4. В первом ящике находится 10 мячей, из которых 7 - белые. Во втором ящике - 11 мячей, из которых 9 белых. Из каждого ящика вытаскивают случайным образом по два мяча. Какова вероятность того, что все мячи белые? Какова вероятность того, что ровно два мяча белые? Какова вероятность того, что хотя бы один мяч белый?"
   ]
  },
  {
   "cell_type": "markdown",
   "id": "urban-conclusion",
   "metadata": {},
   "source": [
    "$P_{все\\,мячи\\,белые} = \\frac7{10}\\frac69\\frac9{11}\\frac8{10} = \\frac{1512}{4950} \\approx 0.31 = 31\\%$"
   ]
  },
  {
   "cell_type": "code",
   "execution_count": 15,
   "id": "outer-reflection",
   "metadata": {},
   "outputs": [
    {
     "data": {
      "text/plain": [
       "0.3054545454545455"
      ]
     },
     "execution_count": 15,
     "metadata": {},
     "output_type": "execute_result"
    }
   ],
   "source": [
    "1512/4950"
   ]
  },
  {
   "cell_type": "markdown",
   "id": "comparative-headquarters",
   "metadata": {},
   "source": [
    "Вероятность того, что ровно два мяча белые определяется как:$\\newline$\n",
    "или в первом ящике 1 белый и 1 черный мяч и во втором ящике 1 белый и 1 черный мяч$\\newline$\n",
    "или в первом ящике 2 белых мяча и во втором ящике 2 черных мяча$\\newline$\n",
    "или в первом ящике 2 черных мяча и во втором ящике 2 белых мяча$\\newline$\n",
    "$P_{2\\,мяча\\,белые} = \\frac7{10}\\frac39\\frac9{11}\\frac2{10} + \\frac7{10}\\frac69\\frac2{11}\\frac1{10} + \\frac3{10}\\frac29\\frac9{11}\\frac8{10} \\approx 0.09 = 9\\%$"
   ]
  },
  {
   "cell_type": "code",
   "execution_count": 18,
   "id": "suffering-ordinary",
   "metadata": {},
   "outputs": [
    {
     "data": {
      "text/plain": [
       "0.0903030303030303"
      ]
     },
     "execution_count": 18,
     "metadata": {},
     "output_type": "execute_result"
    }
   ],
   "source": [
    "7/10*3/9*9/11*2/10+7/10*6/9*2/11*1/10+3/10*2/9*9/11*8/10"
   ]
  },
  {
   "cell_type": "markdown",
   "id": "ancient-programmer",
   "metadata": {},
   "source": [
    "Вероятность того, что хотя бы один мяч белый определяется как:$\\newline$\n",
    "или в первом ящике 1 белый и 1 черный мяч и во втором ящике 2 черных мяча$\\newline$\n",
    "или в первом ящике 2 черных мяча и во втором ящике 1 белый и 1 черный мяч$\\newline$\n",
    "или 2 мяча белые = 9$\\%$$\\newline$\n",
    "или в первом ящике 2 белых мяча и во втором ящике 1 белый и один черный мяч$\\newline$\n",
    "или в первом ящике 1 белый и 1 черный мяч и во втором ящике 2 белых мяча$\\newline$\n",
    "или все мячи белые = 31$\\%$$\\newline$\n",
    "$P_{1<=кол.\\,мячей<=4}=\\frac7{10}\\frac39\\frac2{11}\\frac1{10} + \\frac3{10}\\frac29\\frac9{11}\\frac2{10} + 9\\% + \\frac7{10}\\frac69\\frac9{11}\\frac2{10} + \\frac7{10}\\frac39\\frac9{11}\\frac8{10} + 31\\% \\approx 0.64 = 64\\%$"
   ]
  },
  {
   "cell_type": "code",
   "execution_count": 1,
   "id": "discrete-position",
   "metadata": {},
   "outputs": [
    {
     "data": {
      "text/plain": [
       "0.6442424242424243"
      ]
     },
     "execution_count": 1,
     "metadata": {},
     "output_type": "execute_result"
    }
   ],
   "source": [
    "7/10*3/9*2/11*1/10+3/10*2/9*9/11*2/10+0.09+7/10*6/9*9/11*2/10+7/10*3/9*9/11*8/10+0.31"
   ]
  }
 ],
 "metadata": {
  "kernelspec": {
   "display_name": "Python 3",
   "language": "python",
   "name": "python3"
  },
  "language_info": {
   "codemirror_mode": {
    "name": "ipython",
    "version": 3
   },
   "file_extension": ".py",
   "mimetype": "text/x-python",
   "name": "python",
   "nbconvert_exporter": "python",
   "pygments_lexer": "ipython3",
   "version": "3.9.1"
  }
 },
 "nbformat": 4,
 "nbformat_minor": 5
}
