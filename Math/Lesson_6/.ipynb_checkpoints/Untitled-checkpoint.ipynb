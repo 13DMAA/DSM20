{
 "cells": [
  {
   "cell_type": "code",
   "execution_count": 1,
   "metadata": {},
   "outputs": [],
   "source": [
    "import numpy as np"
   ]
  },
  {
   "cell_type": "code",
   "execution_count": 14,
   "metadata": {},
   "outputs": [
    {
     "name": "stdout",
     "output_type": "stream",
     "text": [
      "0.313\n"
     ]
    }
   ],
   "source": [
    "# 1. Задание (теорема сложения)\n",
    "# Найти вероятность выпадения 2 или 5 очков при подбрасывании игральной кости, \n",
    "# на гранях которой имеются соответственно 1,2,3,4,5 и 6 очков.\n",
    "\n",
    "# P(a) = 1/6    P(b) = 1/6\n",
    "# P(a)+P(b) = 2/6 = 1/3\n",
    "count = 0\n",
    "count_2or5 = 0\n",
    "for i in range(0,1000):\n",
    "    count += 1\n",
    "    x = np.random.randint(1,7)\n",
    "    if (x == 2 or x == 5):\n",
    "        count_2or5 += 1\n",
    "print(count_2or5/count)"
   ]
  },
  {
   "cell_type": "code",
   "execution_count": 40,
   "metadata": {},
   "outputs": [
    {
     "name": "stdout",
     "output_type": "stream",
     "text": [
      "1/36 =  0.028\n",
      "0.029\n"
     ]
    }
   ],
   "source": [
    "# 2.Задание (теорема умножения)\n",
    "# Найти вероятность того, что при двух подбрасываниях той же самой игральной кости сначала выпадет 2, а затем 5.\n",
    "\n",
    "# P(a) = 1/6    P(b) = 1/6\n",
    "# P(ab) = P(a)*P(b) = 1/6*1/6 = 1/36\n",
    "print(\"1/36 = \",round(1/36,3))\n",
    "count = 0\n",
    "count_2after5 = 0\n",
    "bool_2 = False\n",
    "bool_5 = False\n",
    "for i in range(0,10000):\n",
    "    count += 1\n",
    "    x = np.random.randint(1,7)\n",
    "    if (x == 2):\n",
    "        bool_2 = True\n",
    "        continue\n",
    "    if (bool_2 and x==5):\n",
    "        bool_5 = True\n",
    "    if (bool_2 and bool_5):\n",
    "        count_2after5 += 1\n",
    "        bool_2 = False\n",
    "        bool_5 = False\n",
    "    if (bool_2 and not bool_5):\n",
    "        bool_2 = False\n",
    "print(round(count_2after5/count,3))"
   ]
  },
  {
   "cell_type": "code",
   "execution_count": 45,
   "metadata": {},
   "outputs": [
    {
     "name": "stdout",
     "output_type": "stream",
     "text": [
      "2/36 =  0.056\n",
      "0.051\n"
     ]
    }
   ],
   "source": [
    "# 3.Задание \n",
    "# Найти вероятность выпадения 2 и 5 очков при двух подбрасываниях той же самой игральной игральной кости.\n",
    "\n",
    "# P(a) = 1/6    P(b) = 1/6 \n",
    "# Вероятность выпадения 2 и 5 очков = вероятность выпадения сначала 2, потом 5 + вероятность выпадения сначала 5, потом 2\n",
    "# P(ab)+P(ba) = P(a)*P(b)+P(b)*P(a) = 1/6*1/6 + 1/6*1/6 = 2/36\n",
    "print(\"2/36 = \",round(2/36,3))\n",
    "count = 0\n",
    "count_2and5 = 0\n",
    "bool_2 = False\n",
    "bool_5 = False\n",
    "for i in range(0,10000):\n",
    "    count += 1\n",
    "    x = np.random.randint(1,7)\n",
    "    if (x == 2):\n",
    "        bool_2 = True\n",
    "        if (bool_2 and bool_5):\n",
    "            count_2and5 += 1\n",
    "            bool_5 = False\n",
    "        continue\n",
    "    if (x == 5):\n",
    "        bool_5 = True\n",
    "        if (bool_5 and bool_2):\n",
    "            count_2and5 +=1\n",
    "            bool_2 = False\n",
    "        continue\n",
    "    if (not x == 5 and not x == 2):\n",
    "        bool_2 = False\n",
    "        bool_5 = False\n",
    "print(round(count_2and5/count,3))"
   ]
  },
  {
   "cell_type": "code",
   "execution_count": 46,
   "metadata": {},
   "outputs": [],
   "source": [
    "%matplotlib inline\n",
    "import matplotlib.pyplot as plt"
   ]
  },
  {
   "cell_type": "code",
   "execution_count": 96,
   "metadata": {},
   "outputs": [
    {
     "name": "stdout",
     "output_type": "stream",
     "text": [
      "5/21 =  0.238\n",
      "0.233\n"
     ]
    }
   ],
   "source": [
    "# 4.Задание  (Геометрическая вероятность +интервалы)\n",
    "# На отрезке AB длиной 20 см наугад отметили точку C. Какова вероятность, \n",
    "# что она находится на расстоянии не более 9 см от точки А и не более 15 см от точки В?\n",
    "\n",
    "# AB = 20\n",
    "# AC <= 9    BC <=15\n",
    "# Думаю, что можно представить выпадение случайного числа от 0 до 20 включительно,\n",
    "# и посчитать вероятность выпадения от 5 до 9 включительно\n",
    "# 5 или 6 или 7 или 8 или 9 из 21\n",
    "# P('5') = 1/21, как и всех остальных => P('5'+'6'+'7'+'8'+'9')1/21*5 = 5/21\n",
    "\n",
    "print(\"5/21 = \",round(5/21,3))\n",
    "count = 0\n",
    "count_from5_to9 = 0\n",
    "for i in range(0,10000):\n",
    "    count += 1\n",
    "    x = np.random.randint(0,21)\n",
    "    if (x >= 5 and x <= 9):\n",
    "        count_from5_to9 += 1\n",
    "print(round(count_from5_to9/count,3))"
   ]
  },
  {
   "cell_type": "code",
   "execution_count": 2,
   "metadata": {},
   "outputs": [
    {
     "name": "stdout",
     "output_type": "stream",
     "text": [
      "(1/10)**7 =  1.0000000000000004e-07\n",
      "1e-07\n"
     ]
    }
   ],
   "source": [
    "# 5.Задание. \n",
    "# Телефонный номер состоит из 7 цифр. Какова вероятность, что это номер 8882227?\n",
    "\n",
    "# P('8882227') = P('8')*P('8')*P('8')*P('2')*P('2')*P('2')*P('7') = (1/10)**7\n",
    "print('(1/10)**7 = ',(1/10)**7)\n",
    "count = 0\n",
    "count_8882227 = 0\n",
    "for i in range(0,10**7):\n",
    "    count += 1\n",
    "    x = np.random.randint(10**6,10**7)\n",
    "    if (x == 8882227):\n",
    "        count_8882227 += 1\n",
    "print(count_8882227/count)"
   ]
  },
  {
   "cell_type": "code",
   "execution_count": 4,
   "metadata": {},
   "outputs": [],
   "source": [
    "import itertools"
   ]
  },
  {
   "cell_type": "code",
   "execution_count": 10,
   "metadata": {},
   "outputs": [
    {
     "name": "stdout",
     "output_type": "stream",
     "text": [
      "count =  72\n",
      "count_ =  72.0\n"
     ]
    }
   ],
   "source": [
    "# 6.Задание. \n",
    "# Набирая номер телефона, абонент забыл 2 последние цифры, и, помня только то, \n",
    "# что эти цифры различны и среди них нет нуля, стал набирать их наудачу. \n",
    "# Сколько вариантов ему надо перебрать, чтобы наверняка найти нужный номер? \n",
    "# Какова вероятность того, что он угадает номер с первого раза?\n",
    "\n",
    "# Первая цифра 9 значений, вторая цифра тоже 9 значений\n",
    "count = 0\n",
    "# count_ = n!/(n-k)! = 9!/(9-2)! = 9!/7!\n",
    "count_ = np.math.factorial(9)/np.math.factorial(7)\n",
    "for i in itertools.permutations('123456789',2):\n",
    "    count += 1\n",
    "#     print(''.join(i))\n",
    "print('count = ', count)\n",
    "print('count_ = ', count_)\n",
    "# Логично предположить, что вероятность угадать номер с первого раза 1/72, так как вариантов всего 72."
   ]
  }
 ],
 "metadata": {
  "kernelspec": {
   "display_name": "Python 3",
   "language": "python",
   "name": "python3"
  },
  "language_info": {
   "codemirror_mode": {
    "name": "ipython",
    "version": 3
   },
   "file_extension": ".py",
   "mimetype": "text/x-python",
   "name": "python",
   "nbconvert_exporter": "python",
   "pygments_lexer": "ipython3",
   "version": "3.9.0"
  }
 },
 "nbformat": 4,
 "nbformat_minor": 4
}
