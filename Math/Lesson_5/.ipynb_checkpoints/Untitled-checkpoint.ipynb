{
 "cells": [
  {
   "cell_type": "code",
   "execution_count": 2,
   "metadata": {},
   "outputs": [],
   "source": [
    "%matplotlib inline\n",
    "import numpy as np"
   ]
  },
  {
   "cell_type": "code",
   "execution_count": 3,
   "metadata": {},
   "outputs": [
    {
     "name": "stdout",
     "output_type": "stream",
     "text": [
      "\n",
      "Выпало 19 красное\n",
      "\n",
      "Выпало 18 красное\n",
      "\n",
      "Выпало 4 чёрное\n",
      "\n",
      "Выпало 18 красное\n",
      "\n",
      "Выпало 25 красное\n"
     ]
    }
   ],
   "source": [
    "roulette = [0, 32, 15, 19, 4, 21, 2, 25, 17, 34, 6, 27, 13, 36, 11, 30, 8, 23, 10, 5, 24, 16, 33, 1, 20, 14, 31, 9, 22, 18, 29, 7, 28, 12, 35, 3, 26]\n",
    "for i in range(0, 5):\n",
    "    x = np.random.randint(0,37)\n",
    "    input()\n",
    "    if int(x) and not int(x)%2:\n",
    "        print(f'Выпало {roulette[int(x)]} чёрное')\n",
    "    elif int(x) and int(x)%2:\n",
    "        print(f'Выпало {roulette[int(x)]} красное')\n",
    "    else:\n",
    "        print(f'Выпало zero!')        "
   ]
  },
  {
   "cell_type": "code",
   "execution_count": 3,
   "metadata": {},
   "outputs": [
    {
     "name": "stdout",
     "output_type": "stream",
     "text": [
      "average_value =  14.934540654593453\n",
      "avarage_chance =  0.149\n",
      "real_chance =  0.115\n"
     ]
    }
   ],
   "source": [
    "# Напишите код, проверяющий любую из теорем сложения или умножения вероятности на примере рулетки или подбрасывания монетки.\n",
    "# Вероятность выпадения подряд 3 красных значений = 18/37**3 = 0.115\n",
    "roulette = [0, 32, 15, 19, 4, 21, 2, 25, 17, 34, 6, 27, 13, 36, 11, 30, 8, 23, 10, 5, 24, 16, 33, 1, 20, 14, 31, 9, 22, 18, 29, 7, 28, 12, 35, 3, 26]\n",
    "values = []\n",
    "counts = 100000\n",
    "average_value = 0\n",
    "for i in range(0, counts+1):\n",
    "    check = True\n",
    "    iteration_count = 0\n",
    "    black = 0\n",
    "    red = 0\n",
    "    zero = 0\n",
    "    count_red = 0\n",
    "    while check:\n",
    "        iteration_count += 1\n",
    "        x = np.random.randint(0,37)\n",
    "        if int(x) and not int(x)%2:\n",
    "    #         print(f'Выпало {roulette[int(x)]} чёрное')\n",
    "            black += 1\n",
    "            if count_red:\n",
    "                count_red = 0\n",
    "        elif int(x) and int(x)%2:\n",
    "    #         print(f'Выпало {roulette[int(x)]} красное')\n",
    "            red += 1\n",
    "            count_red += 1\n",
    "            if count_red == 3:\n",
    "                check = False\n",
    "        else:\n",
    "    #         print(f'Выпало zero!')\n",
    "            zero += 1\n",
    "            if count_red:\n",
    "                count_red = 0\n",
    "#     print(iteration_count)\n",
    "    values.append(iteration_count)\n",
    "average_value = sum(values)/len(values)\n",
    "print('average_value = ', average_value)\n",
    "print('avarage_chance = ', round(average_value/100,3))\n",
    "print('real_chance = ', round(18/37*18/37*18/37,3))\n",
    "# В среднем из 100 итераций кручения рулетки нужно сделать около average_value = 15 кручений,\n",
    "# чтобы последующие 3 значения были красными\n",
    "# по формуле 11.5"
   ]
  },
  {
   "cell_type": "code",
   "execution_count": 16,
   "metadata": {},
   "outputs": [
    {
     "name": "stdout",
     "output_type": "stream",
     "text": [
      "chance =  0.162\n",
      "real_chance =  0.115\n"
     ]
    }
   ],
   "source": [
    "# Напишите код, проверяющий любую из теорем сложения или умножения вероятности на примере рулетки или подбрасывания монетки.\n",
    "# Вероятность выпадения подряд 3 красных значений = 18/37**3 = 0.115\n",
    "roulette = [0, 32, 15, 19, 4, 21, 2, 25, 17, 34, 6, 27, 13, 36, 11, 30, 8, 23, 10, 5, 24, 16, 33, 1, 20, 14, 31, 9, 22, 18, 29, 7, 28, 12, 35, 3, 26]\n",
    "values = []\n",
    "counts = 10000000\n",
    "red = 0\n",
    "red_3 = 0\n",
    "for i in range(0, counts+1):\n",
    "    x = np.random.randint(0,37)\n",
    "    if int(x) and not int(x)%2:\n",
    "        continue\n",
    "    elif int(x) and int(x)%2:\n",
    "        red += 1\n",
    "    else:\n",
    "        continue\n",
    "    if red == 3:\n",
    "        red = 0\n",
    "        red_3 += 1\n",
    "print('chance = ', round(red_3/counts, 3))\n",
    "print('real_chance = ', round(18/37*18/37*18/37,3))"
   ]
  },
  {
   "cell_type": "code",
   "execution_count": null,
   "metadata": {},
   "outputs": [],
   "source": [
    "# Не понимаю почему такая большая разница (около 0.04) получается с значением по формуле."
   ]
  },
  {
   "cell_type": "code",
   "execution_count": 60,
   "metadata": {},
   "outputs": [
    {
     "name": "stdout",
     "output_type": "stream",
     "text": [
      "0.11345\n"
     ]
    }
   ],
   "source": [
    "# Напишите код, проверяющий любую из теорем сложения или умножения вероятности на примере рулетки или подбрасывания монетки.\n",
    "# Вероятность выпадения подряд 3 красных значений = 18/37**3 = 0.115\n",
    "counts = 100000\n",
    "red = 0\n",
    "red_3 = 0\n",
    "for i in range(0, counts+1):\n",
    "    list_ = []\n",
    "    for j in range(0,3):\n",
    "        x = np.random.randint(0, 37)\n",
    "        if int(x) and not int(x)%2:\n",
    "            list_.append(x)\n",
    "            continue\n",
    "        elif int(x) and int(x)%2:\n",
    "            red += 1\n",
    "            x = f'{x} red'\n",
    "            list_.append(x)\n",
    "        else:\n",
    "            list_.append(x)\n",
    "            continue\n",
    "        if red == 3:\n",
    "            red_3 += 1\n",
    "#     print(list_, red)\n",
    "    red = 0\n",
    "print(red_3/counts)\n",
    "# НЕУЖЕЛИ У МЕНЯ СОШЛОСЬ! СПАСИБО ВАМ БОЛЬШОЕ)))"
   ]
  },
  {
   "cell_type": "code",
   "execution_count": 15,
   "metadata": {},
   "outputs": [
    {
     "name": "stdout",
     "output_type": "stream",
     "text": [
      "[4.534, 5.44, 5.001, 5.837, 5.443, 5.162, 4.056, 4.829, 5.316, 4.175]\n"
     ]
    },
    {
     "data": {
      "image/png": "[encoded data removed]",
      "text/plain": [
       "<Figure size 432x288 with 1 Axes>"
      ]
     },
     "metadata": {
      "needs_background": "light"
     },
     "output_type": "display_data"
    }
   ],
   "source": [
    "# Сгенерируйте десять выборок случайных чисел х0, …, х9.\n",
    "# и постройте гистограмму распределения случайной суммы х0+х1+ …+ х9.\n",
    "%matplotlib inline\n",
    "import matplotlib.pyplot as plt\n",
    "list_ = [np.random.rand(10) for i in range(0,10)]\n",
    "# print(list_)\n",
    "x = [round(sum(list_[i]),3) for i in range(0,10)]\n",
    "print(x)\n",
    "num_bins = 5\n",
    "n, bins, patches = plt.hist(x, num_bins)"
   ]
  },
  {
   "cell_type": "code",
   "execution_count": 61,
   "metadata": {},
   "outputs": [
    {
     "name": "stdout",
     "output_type": "stream",
     "text": [
      "3753 10000 0.3753\n",
      "0.375\n"
     ]
    }
   ],
   "source": [
    "# Дополните код Монте-Карло последовательности независимых испытаний расчетом соответствующих вероятностей (через биномиальное распределение) \n",
    "# и сравните результаты.\n",
    "k, n = 0, 10000\n",
    "a = np.random.randint(0, 2, n)\n",
    "b = np.random.randint(0, 2, n)\n",
    "c = np.random.randint(0, 2, n)\n",
    "d = np.random.randint(0, 2, n)\n",
    "x = a + b + c + d\n",
    "for i in range(0, n):\n",
    "    if x[i] == 2:\n",
    "        k += 1\n",
    "print(k, n, k/n)\n",
    "# По формуле Бернулли:\n",
    "print(np.math.factorial(4)/np.math.factorial(2)/np.math.factorial(4-2)*(0.5**2)*(0.5**(4-2)))"
   ]
  },
  {
   "cell_type": "code",
   "execution_count": 43,
   "metadata": {},
   "outputs": [
    {
     "name": "stdout",
     "output_type": "stream",
     "text": [
      "633 10000 0.0633\n",
      "0.0625\n"
     ]
    }
   ],
   "source": [
    "# Повторите расчеты биномиальных коэффициентов и вероятностей k успехов в последовательности из n независимых испытаний,\n",
    "# взяв другие значения n и k.\n",
    "k, n = 0, 10000\n",
    "a = np.random.randint(0, 2, n)\n",
    "b = np.random.randint(0, 2, n)\n",
    "c = np.random.randint(0, 2, n)\n",
    "d = np.random.randint(0, 2, n)\n",
    "x = a + b + c + d\n",
    "for i in range(0, n):\n",
    "    if x[i] == 4:\n",
    "        k += 1\n",
    "print(k, n, k/n)\n",
    "# По формуле Бернулли:\n",
    "print(np.math.factorial(4)/np.math.factorial(4)/np.math.factorial(4-4)*(0.5**4)*(0.5**(4-4)))"
   ]
  },
  {
   "cell_type": "code",
   "execution_count": 73,
   "metadata": {},
   "outputs": [
    {
     "name": "stdout",
     "output_type": "stream",
     "text": [
      "012    1\n",
      "013    2\n",
      "014    3\n",
      "015    4\n",
      "021    5\n",
      "023    6\n",
      "024    7\n",
      "025    8\n",
      "031    9\n",
      "032    10\n",
      "034    11\n",
      "035    12\n",
      "041    13\n",
      "042    14\n",
      "043    15\n",
      "045    16\n",
      "051    17\n",
      "052    18\n",
      "053    19\n",
      "054    20\n",
      "102    21\n",
      "103    22\n",
      "104    23\n",
      "105    24\n",
      "120    25\n",
      "123    26\n",
      "124    27\n",
      "125    28\n",
      "130    29\n",
      "132    30\n",
      "134    31\n",
      "135    32\n",
      "140    33\n",
      "142    34\n",
      "143    35\n",
      "145    36\n",
      "150    37\n",
      "152    38\n",
      "153    39\n",
      "154    40\n",
      "201    41\n",
      "203    42\n",
      "204    43\n",
      "205    44\n",
      "210    45\n",
      "213    46\n",
      "214    47\n",
      "215    48\n",
      "230    49\n",
      "231    50\n",
      "234    51\n",
      "235    52\n",
      "240    53\n",
      "241    54\n",
      "243    55\n",
      "245    56\n",
      "250    57\n",
      "251    58\n",
      "253    59\n",
      "254    60\n",
      "301    61\n",
      "302    62\n",
      "304    63\n",
      "305    64\n",
      "310    65\n",
      "312    66\n",
      "314    67\n",
      "315    68\n",
      "320    69\n",
      "321    70\n",
      "324    71\n",
      "325    72\n",
      "340    73\n",
      "341    74\n",
      "342    75\n",
      "345    76\n",
      "350    77\n",
      "351    78\n",
      "352    79\n",
      "354    80\n",
      "401    81\n",
      "402    82\n",
      "403    83\n",
      "405    84\n",
      "410    85\n",
      "412    86\n",
      "413    87\n",
      "415    88\n",
      "420    89\n",
      "421    90\n",
      "423    91\n",
      "425    92\n",
      "430    93\n",
      "431    94\n",
      "432    95\n",
      "435    96\n",
      "450    97\n",
      "451    98\n",
      "452    99\n",
      "453    100\n",
      "501    101\n",
      "502    102\n",
      "503    103\n",
      "504    104\n",
      "510    105\n",
      "512    106\n",
      "513    107\n",
      "514    108\n",
      "520    109\n",
      "521    110\n",
      "523    111\n",
      "524    112\n",
      "530    113\n",
      "531    114\n",
      "532    115\n",
      "534    116\n",
      "540    117\n",
      "541    118\n",
      "542    119\n",
      "543    120\n"
     ]
    }
   ],
   "source": [
    "# Из урока по комбинаторике повторите расчеты, сгенерировав возможные варианты перестановок для других значений n и k\n",
    "import itertools\n",
    "\n",
    "count = 0\n",
    "for p in itertools.permutations(\"012345\", 3):\n",
    "    count += 1\n",
    "    print(f'{\"\".join(p)}    {count}')"
   ]
  },
  {
   "cell_type": "code",
   "execution_count": 71,
   "metadata": {},
   "outputs": [
    {
     "name": "stdout",
     "output_type": "stream",
     "text": [
      "012    1\n",
      "013    2\n",
      "014    3\n",
      "015    4\n",
      "023    5\n",
      "024    6\n",
      "025    7\n",
      "034    8\n",
      "035    9\n",
      "045    10\n",
      "123    11\n",
      "124    12\n",
      "125    13\n",
      "134    14\n",
      "135    15\n",
      "145    16\n",
      "234    17\n",
      "235    18\n",
      "245    19\n",
      "345    20\n"
     ]
    }
   ],
   "source": [
    "count = 0\n",
    "for p in itertools.combinations(\"012345\", 3):\n",
    "    count += 1\n",
    "    print(f'{\"\".join(p)}    {count}')"
   ]
  },
  {
   "cell_type": "code",
   "execution_count": 74,
   "metadata": {},
   "outputs": [
    {
     "name": "stdout",
     "output_type": "stream",
     "text": [
      "0000    1\n",
      "000z    2\n",
      "0003    3\n",
      "00z0    4\n",
      "00zz    5\n",
      "00z3    6\n",
      "0030    7\n",
      "003z    8\n",
      "0033    9\n",
      "0z00    10\n",
      "0z0z    11\n",
      "0z03    12\n",
      "0zz0    13\n",
      "0zzz    14\n",
      "0zz3    15\n",
      "0z30    16\n",
      "0z3z    17\n",
      "0z33    18\n",
      "0300    19\n",
      "030z    20\n",
      "0303    21\n",
      "03z0    22\n",
      "03zz    23\n",
      "03z3    24\n",
      "0330    25\n",
      "033z    26\n",
      "0333    27\n",
      "z000    28\n",
      "z00z    29\n",
      "z003    30\n",
      "z0z0    31\n",
      "z0zz    32\n",
      "z0z3    33\n",
      "z030    34\n",
      "z03z    35\n",
      "z033    36\n",
      "zz00    37\n",
      "zz0z    38\n",
      "zz03    39\n",
      "zzz0    40\n",
      "zzzz    41\n",
      "zzz3    42\n",
      "zz30    43\n",
      "zz3z    44\n",
      "zz33    45\n",
      "z300    46\n",
      "z30z    47\n",
      "z303    48\n",
      "z3z0    49\n",
      "z3zz    50\n",
      "z3z3    51\n",
      "z330    52\n",
      "z33z    53\n",
      "z333    54\n",
      "3000    55\n",
      "300z    56\n",
      "3003    57\n",
      "30z0    58\n",
      "30zz    59\n",
      "30z3    60\n",
      "3030    61\n",
      "303z    62\n",
      "3033    63\n",
      "3z00    64\n",
      "3z0z    65\n",
      "3z03    66\n",
      "3zz0    67\n",
      "3zzz    68\n",
      "3zz3    69\n",
      "3z30    70\n",
      "3z3z    71\n",
      "3z33    72\n",
      "3300    73\n",
      "330z    74\n",
      "3303    75\n",
      "33z0    76\n",
      "33zz    77\n",
      "33z3    78\n",
      "3330    79\n",
      "333z    80\n",
      "3333    81\n"
     ]
    }
   ],
   "source": [
    "count = 0\n",
    "for p in itertools.product(\"0z3\", repeat = 4):\n",
    "    count += 1\n",
    "    print(f'{\"\".join(p)}    {count}')"
   ]
  },
  {
   "cell_type": "code",
   "execution_count": 94,
   "metadata": {},
   "outputs": [
    {
     "name": "stdout",
     "output_type": "stream",
     "text": [
      "0.7379949363444933 0.13436895528464624\n",
      "0.7379949363444936 0.13436895528464599\n",
      "----------------------------------------------------------------------------------------------------\n",
      "c = [[1.         0.92693622]\n",
      " [0.92693622 1.        ]]\n",
      "Коэффициент корреляции, расчитанный по формуле =  0.9269362168589945\n",
      "----------------------------------------------------------------------------------------------------\n"
     ]
    },
    {
     "name": "stderr",
     "output_type": "stream",
     "text": [
      "<ipython-input-94-a1234be08d02>:14: FutureWarning: `rcond` parameter will change to the default of machine precision times ``max(M, N)`` where M and N are the input matrix dimensions.\n",
      "To use the future default and silence this warning we advise to pass `rcond=None`, to keep using the old, explicitly pass `rcond=-1`.\n",
      "  a1, b1 = np.linalg.lstsq(A, y)[0]\n"
     ]
    },
    {
     "data": {
      "image/png": "[encoded data removed]",
      "text/plain": [
       "<Figure size 432x288 with 1 Axes>"
      ]
     },
     "metadata": {
      "needs_background": "light"
     },
     "output_type": "display_data"
    }
   ],
   "source": [
    "n = 100\n",
    "r = 0.7\n",
    "x = np.random.rand(n)\n",
    "y = r*x + (1 - r)*np.random.rand(n)\n",
    "plt.plot(x, y, 'o')\n",
    "plt.xlabel('x')\n",
    "plt.ylabel('y')\n",
    "plt.grid(True)\n",
    "\n",
    "a = (np.sum(x)*np.sum(y) - n*np.sum(x*y))/(np.sum(x)*np.sum(x) - n*np.sum(x*x))\n",
    "b = (np.sum(y) - a*np.sum(x))/n\n",
    "\n",
    "A = np.vstack([x, np.ones(len(x))]).T\n",
    "a1, b1 = np.linalg.lstsq(A, y)[0]\n",
    "print(a, b)\n",
    "print(a1, b1)\n",
    "print('-'*100)\n",
    "c = np.corrcoef(x, y)\n",
    "x_m = sum(x)/n\n",
    "y_m = sum(y)/n\n",
    "print(f'c = {c}')\n",
    "my_c = sum((x-x_m)*(y-y_m))/np.sqrt(sum((x-x_m)**2)*sum((y-y_m)**2))\n",
    "print('Коэффициент корреляции, расчитанный по формуле = ', my_c)\n",
    "print('-'*100)\n",
    "plt.plot([0, 1], [b, a + b])\n",
    "plt.show()"
   ]
  },
  {
   "cell_type": "code",
   "execution_count": null,
   "metadata": {},
   "outputs": [],
   "source": []
  }
 ],
 "metadata": {
  "kernelspec": {
   "display_name": "Python 3",
   "language": "python",
   "name": "python3"
  },
  "language_info": {
   "codemirror_mode": {
    "name": "ipython",
    "version": 3
   },
   "file_extension": ".py",
   "mimetype": "text/x-python",
   "name": "python",
   "nbconvert_exporter": "python",
   "pygments_lexer": "ipython3",
   "version": "3.9.0"
  }
 },
 "nbformat": 4,
 "nbformat_minor": 4
}
